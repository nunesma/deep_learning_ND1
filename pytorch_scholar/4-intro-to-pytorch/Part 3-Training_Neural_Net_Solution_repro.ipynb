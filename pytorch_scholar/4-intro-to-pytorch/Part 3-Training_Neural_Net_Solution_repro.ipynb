{
 "cells": [
  {
   "cell_type": "markdown",
   "metadata": {},
   "source": [
    "## Training Neural Networks"
   ]
  },
  {
   "cell_type": "code",
   "execution_count": 1,
   "metadata": {},
   "outputs": [],
   "source": [
    "import torch\n",
    "from torch import nn\n",
    "import torch.nn.functional as F\n",
    "from torchvision import datasets, transforms"
   ]
  },
  {
   "cell_type": "code",
   "execution_count": 6,
   "metadata": {},
   "outputs": [],
   "source": [
    "# define a transform to normalize the data\n",
    "transform = transforms.Compose([transforms.ToTensor(), \n",
    "                               transforms.Normalize((0.5, 0.5, 0.5), (0.5, 0.5, 0.5)), \n",
    "                               ])\n",
    "# download and load training data\n",
    "trainset = datasets.MNIST('~/.pytorch/MNIST_data/', download = True, train = True, transform = transform)\n",
    "trainloader = torch.utils.data.DataLoader(trainset, batch_size = 64, shuffle = True)"
   ]
  },
  {
   "cell_type": "code",
   "execution_count": 7,
   "metadata": {},
   "outputs": [
    {
     "name": "stdout",
     "output_type": "stream",
     "text": [
      "tensor(2.3131, grad_fn=<NllLossBackward>)\n"
     ]
    }
   ],
   "source": [
    "# build a feed-forward network\n",
    "model = nn.Sequential(nn.Linear(784, 128), \n",
    "                     nn.ReLU(), \n",
    "                     nn.Linear(128, 64), \n",
    "                     nn.ReLU(),\n",
    "                     nn.Linear(64, 10))\n",
    "\n",
    "# define the loss\n",
    "criterion = nn.CrossEntropyLoss()\n",
    "\n",
    "# get the data\n",
    "images, labels = next(iter(trainloader))\n",
    "# flatten the images\n",
    "images = images.view(images.shape[0], -1)\n",
    "\n",
    "# forward pass\n",
    "logits = model(images)\n",
    "# calculate the loss\n",
    "loss = criterion(logits, labels)\n",
    "\n",
    "print(loss)"
   ]
  },
  {
   "cell_type": "code",
   "execution_count": 8,
   "metadata": {},
   "outputs": [
    {
     "name": "stdout",
     "output_type": "stream",
     "text": [
      "tensor(2.3073, grad_fn=<NllLossBackward>)\n"
     ]
    }
   ],
   "source": [
    "# build a feed-forward network\n",
    "model = nn.Sequential(nn.Linear(784, 128), \n",
    "                     nn.ReLU(), \n",
    "                     nn.Linear(128, 64), \n",
    "                     nn.ReLU(), \n",
    "                     nn.Linear(64, 10),\n",
    "                     nn.LogSoftmax(dim = 1))\n",
    "\n",
    "# define the loss\n",
    "criterion = nn.NLLLoss()\n",
    "\n",
    "# get the data\n",
    "images, labels = next(iter(trainloader))\n",
    "# flatten the images\n",
    "images = images.view(images.shape[0], -1)\n",
    "\n",
    "# forward pass and get logprobabilities\n",
    "logps = model(images)\n",
    "# calculate the loss\n",
    "loss = criterion(logps, labels)\n",
    "\n",
    "print(loss)"
   ]
  },
  {
   "cell_type": "code",
   "execution_count": 9,
   "metadata": {},
   "outputs": [
    {
     "name": "stdout",
     "output_type": "stream",
     "text": [
      "tensor([[ 0.1647,  0.2271],\n",
      "        [ 0.8595, -1.1904]])\n",
      "tensor([[-0.1342,  0.6692],\n",
      "        [-0.9623,  0.5996]], requires_grad=True)\n"
     ]
    }
   ],
   "source": [
    "xx = torch.randn(2, 2)\n",
    "x = torch.randn(2, 2, requires_grad = True)\n",
    "\n",
    "print(xx)\n",
    "print(x)"
   ]
  },
  {
   "cell_type": "code",
   "execution_count": 10,
   "metadata": {},
   "outputs": [
    {
     "name": "stdout",
     "output_type": "stream",
     "text": [
      "tensor([[0.0271, 0.0516],\n",
      "        [0.7387, 1.4171]])\n",
      "tensor([[0.0180, 0.4478],\n",
      "        [0.9260, 0.3595]], grad_fn=<PowBackward0>)\n"
     ]
    }
   ],
   "source": [
    "yy = xx**2\n",
    "y = x**2\n",
    "\n",
    "print(yy)\n",
    "print(y)"
   ]
  },
  {
   "cell_type": "code",
   "execution_count": 12,
   "metadata": {},
   "outputs": [
    {
     "name": "stdout",
     "output_type": "stream",
     "text": [
      "None\n",
      "<PowBackward0 object at 0x0000024501743978>\n"
     ]
    }
   ],
   "source": [
    "print(yy.grad_fn)\n",
    "print(y.grad_fn)"
   ]
  },
  {
   "cell_type": "code",
   "execution_count": 13,
   "metadata": {},
   "outputs": [
    {
     "name": "stdout",
     "output_type": "stream",
     "text": [
      "tensor(0.5586)\n",
      "tensor(0.4378, grad_fn=<MeanBackward1>)\n"
     ]
    }
   ],
   "source": [
    "zz = yy.mean()\n",
    "z = y.mean()\n",
    "print(zz)\n",
    "print(z)"
   ]
  },
  {
   "cell_type": "code",
   "execution_count": 14,
   "metadata": {},
   "outputs": [
    {
     "name": "stdout",
     "output_type": "stream",
     "text": [
      "None\n",
      "None\n"
     ]
    }
   ],
   "source": [
    "print(xx.grad)\n",
    "print(x.grad)"
   ]
  },
  {
   "cell_type": "code",
   "execution_count": 16,
   "metadata": {},
   "outputs": [
    {
     "name": "stdout",
     "output_type": "stream",
     "text": [
      "None\n",
      "tensor([[-0.0671,  0.3346],\n",
      "        [-0.4811,  0.2998]])\n",
      "tensor([[ 0.0823,  0.1135],\n",
      "        [ 0.4297, -0.5952]])\n",
      "tensor([[-0.0671,  0.3346],\n",
      "        [-0.4811,  0.2998]], grad_fn=<DivBackward0>)\n"
     ]
    }
   ],
   "source": [
    "# zz.backward()\n",
    "z.backward()\n",
    "print(xx.grad)\n",
    "print(x.grad)\n",
    "print(xx/2)\n",
    "print(x/2)"
   ]
  },
  {
   "cell_type": "code",
   "execution_count": 19,
   "metadata": {},
   "outputs": [],
   "source": [
    "# build a feed-forward network\n",
    "model = nn.Sequential(nn.Linear(784, 128), \n",
    "                     nn.ReLU(), \n",
    "                     nn.Linear(128, 64), \n",
    "                     nn.ReLU(), \n",
    "                     nn.Linear(64, 10), \n",
    "                     nn.LogSoftmax(dim = 1))\n",
    "\n",
    "# define the loss\n",
    "criterion = nn.NLLLoss()\n",
    "\n",
    "# get the data\n",
    "images, labels = next(iter(trainloader))\n",
    "# flatten the data\n",
    "images = images.view(images.shape[0], -1)\n",
    "\n",
    "# forward pass\n",
    "logps = model(images)\n",
    "# calculate the loss\n",
    "loss = criterion(logps, labels)"
   ]
  },
  {
   "cell_type": "code",
   "execution_count": 20,
   "metadata": {},
   "outputs": [
    {
     "name": "stdout",
     "output_type": "stream",
     "text": [
      "Before backward pass: \n",
      " None\n",
      "After backward pass: \n",
      " tensor([[-0.0012, -0.0012, -0.0012,  ..., -0.0012, -0.0012, -0.0012],\n",
      "        [-0.0009, -0.0009, -0.0009,  ..., -0.0009, -0.0009, -0.0009],\n",
      "        [ 0.0037,  0.0037,  0.0037,  ...,  0.0037,  0.0037,  0.0037],\n",
      "        ...,\n",
      "        [-0.0010, -0.0010, -0.0010,  ..., -0.0010, -0.0010, -0.0010],\n",
      "        [-0.0027, -0.0027, -0.0027,  ..., -0.0027, -0.0027, -0.0027],\n",
      "        [-0.0005, -0.0005, -0.0005,  ..., -0.0005, -0.0005, -0.0005]])\n"
     ]
    }
   ],
   "source": [
    "print('Before backward pass: \\n', model[0].weight.grad)\n",
    "loss.backward()\n",
    "print('After backward pass: \\n', model[0].weight.grad)"
   ]
  },
  {
   "cell_type": "code",
   "execution_count": 21,
   "metadata": {},
   "outputs": [],
   "source": [
    "from torch import optim\n",
    "\n",
    "optimizer = optim.SGD(model.parameters(), lr = 0.01)"
   ]
  },
  {
   "cell_type": "code",
   "execution_count": 23,
   "metadata": {},
   "outputs": [
    {
     "name": "stdout",
     "output_type": "stream",
     "text": [
      "Initial weights -  Parameter containing:\n",
      "tensor([[-0.0136,  0.0310, -0.0298,  ..., -0.0051, -0.0008, -0.0255],\n",
      "        [-0.0147, -0.0207, -0.0131,  ...,  0.0202,  0.0128, -0.0019],\n",
      "        [-0.0066, -0.0076,  0.0034,  ...,  0.0186,  0.0297,  0.0330],\n",
      "        ...,\n",
      "        [ 0.0245,  0.0090,  0.0287,  ...,  0.0130,  0.0030, -0.0181],\n",
      "        [-0.0320, -0.0251, -0.0122,  ..., -0.0138,  0.0108,  0.0227],\n",
      "        [ 0.0198,  0.0339,  0.0054,  ..., -0.0203,  0.0122,  0.0105]],\n",
      "       requires_grad=True)\n",
      "Gradient -  tensor([[-0.0012, -0.0012, -0.0012,  ..., -0.0012, -0.0012, -0.0012],\n",
      "        [ 0.0002,  0.0002,  0.0002,  ...,  0.0002,  0.0002,  0.0002],\n",
      "        [ 0.0041,  0.0041,  0.0041,  ...,  0.0041,  0.0041,  0.0041],\n",
      "        ...,\n",
      "        [-0.0009, -0.0009, -0.0009,  ..., -0.0009, -0.0009, -0.0009],\n",
      "        [-0.0061, -0.0061, -0.0061,  ..., -0.0061, -0.0061, -0.0061],\n",
      "        [ 0.0004,  0.0004,  0.0004,  ...,  0.0004,  0.0004,  0.0004]])\n"
     ]
    }
   ],
   "source": [
    "print('Initial weights - ', model[0].weight)\n",
    "\n",
    "# get the data\n",
    "images, labels = next(iter(trainloader))\n",
    "# flatten the data\n",
    "images.resize_(64, 784)\n",
    "\n",
    "# forward pass\n",
    "output = model(images)\n",
    "# calculate the loss\n",
    "loss = criterion(output, labels)\n",
    "loss.backward()\n",
    "\n",
    "print('Gradient - ', model[0].weight.grad)"
   ]
  },
  {
   "cell_type": "code",
   "execution_count": 24,
   "metadata": {},
   "outputs": [
    {
     "name": "stdout",
     "output_type": "stream",
     "text": [
      "Updated weights - Parameter containing:\n",
      "tensor([[-0.0136,  0.0310, -0.0298,  ..., -0.0051, -0.0008, -0.0255],\n",
      "        [-0.0147, -0.0207, -0.0131,  ...,  0.0202,  0.0128, -0.0019],\n",
      "        [-0.0066, -0.0076,  0.0034,  ...,  0.0186,  0.0297,  0.0329],\n",
      "        ...,\n",
      "        [ 0.0245,  0.0090,  0.0287,  ...,  0.0130,  0.0030, -0.0180],\n",
      "        [-0.0320, -0.0250, -0.0121,  ..., -0.0138,  0.0109,  0.0228],\n",
      "        [ 0.0198,  0.0339,  0.0054,  ..., -0.0203,  0.0122,  0.0105]],\n",
      "       requires_grad=True)\n"
     ]
    }
   ],
   "source": [
    "optimizer.step()\n",
    "print('Updated weights -', model[0].weight)"
   ]
  },
  {
   "cell_type": "markdown",
   "metadata": {},
   "source": [
    "## Train for real"
   ]
  },
  {
   "cell_type": "code",
   "execution_count": 25,
   "metadata": {},
   "outputs": [
    {
     "name": "stdout",
     "output_type": "stream",
     "text": [
      "training loss: 1.953781380963478\n",
      "training loss: 0.9151444153300227\n",
      "training loss: 0.5446299311003959\n",
      "training loss: 0.43614057362524433\n",
      "training loss: 0.3871076988862522\n"
     ]
    }
   ],
   "source": [
    "model = nn.Sequential(nn.Linear(784, 128), \n",
    "                     nn.ReLU(), \n",
    "                     nn.Linear(128, 64), \n",
    "                     nn.ReLU(), \n",
    "                     nn.Linear(64, 10), \n",
    "                     nn.LogSoftmax(dim = 1))\n",
    "\n",
    "# define the loss\n",
    "criterion = nn.NLLLoss()\n",
    "\n",
    "# define optimizer\n",
    "optimizer = optim.SGD(model.parameters(), lr = 0.003)\n",
    "\n",
    "# training loop\n",
    "epoch = 5\n",
    "for e in range(epoch):\n",
    "    running_loss = 0\n",
    "    for images, labels in trainloader:\n",
    "        # flatten the data\n",
    "        images = images.view(images.shape[0], -1)\n",
    "        \n",
    "        # training pass\n",
    "        optimizer.zero_grad()\n",
    "        \n",
    "        # forward pass\n",
    "        output = model(images)\n",
    "        # calculate the loss\n",
    "        loss = criterion(output, labels)\n",
    "        # backpropagation\n",
    "        loss.backward()\n",
    "        optimizer.step()\n",
    "        \n",
    "        running_loss += loss.item()\n",
    "        \n",
    "    else:\n",
    "        print(f\"training loss: {running_loss/len(trainloader)}\")\n",
    "        "
   ]
  },
  {
   "cell_type": "code",
   "execution_count": 26,
   "metadata": {},
   "outputs": [
    {
     "data": {
      "image/png": "[encoded data removed]",
      "text/plain": [
       "<Figure size 432x648 with 2 Axes>"
      ]
     },
     "metadata": {
      "needs_background": "light"
     },
     "output_type": "display_data"
    }
   ],
   "source": [
    "%matplotlib inline\n",
    "import helper\n",
    "\n",
    "images, labels = next(iter(trainloader))\n",
    "\n",
    "img = images[0].view(1, 784)\n",
    "\n",
    "with torch.no_grad():\n",
    "    logps = model(img)\n",
    "    \n",
    "ps = torch.exp(logps)\n",
    "\n",
    "helper.view_classify(img.view(1, 28, 28), ps)"
   ]
  }
 ],
 "metadata": {
  "kernelspec": {
   "display_name": "Python 3",
   "language": "python",
   "name": "python3"
  },
  "language_info": {
   "codemirror_mode": {
    "name": "ipython",
    "version": 3
   },
   "file_extension": ".py",
   "mimetype": "text/x-python",
   "name": "python",
   "nbconvert_exporter": "python",
   "pygments_lexer": "ipython3",
   "version": "3.6.7"
  }
 },
 "nbformat": 4,
 "nbformat_minor": 2
}
