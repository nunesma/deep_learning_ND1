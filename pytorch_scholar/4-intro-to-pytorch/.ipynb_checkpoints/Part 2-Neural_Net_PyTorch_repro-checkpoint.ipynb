{
 "cells": [
  {
   "cell_type": "markdown",
   "metadata": {},
   "source": [
    "## Neural Networks with PyTorch"
   ]
  },
  {
   "cell_type": "code",
   "execution_count": 1,
   "metadata": {},
   "outputs": [],
   "source": [
    "from IPython.core.interactiveshell import InteractiveShell\n",
    "InteractiveShell.ast_node_interactivity = \"all\""
   ]
  },
  {
   "cell_type": "code",
   "execution_count": 2,
   "metadata": {},
   "outputs": [],
   "source": [
    "%matplotlib inline\n",
    "%config InlineBackend.figure_format = 'retina'\n",
    "\n",
    "# import necessary packages\n",
    "import numpy as np\n",
    "import torch\n",
    "\n",
    "import helper\n",
    "\n",
    "import matplotlib.pyplot as plt"
   ]
  },
  {
   "cell_type": "code",
   "execution_count": 3,
   "metadata": {},
   "outputs": [
    {
     "name": "stdout",
     "output_type": "stream",
     "text": [
      "Downloading http://yann.lecun.com/exdb/mnist/train-images-idx3-ubyte.gz\n",
      "Downloading http://yann.lecun.com/exdb/mnist/train-labels-idx1-ubyte.gz\n",
      "Downloading http://yann.lecun.com/exdb/mnist/t10k-images-idx3-ubyte.gz\n",
      "Downloading http://yann.lecun.com/exdb/mnist/t10k-labels-idx1-ubyte.gz\n",
      "Processing...\n",
      "Done!\n"
     ]
    }
   ],
   "source": [
    "from torchvision import datasets, transforms\n",
    "\n",
    "# define a transform to normalize the data\n",
    "transform = transforms. Compose([transforms.ToTensor(), \n",
    "                                transforms.Normalize((0.5,), (0.5,)),\n",
    "                                ])\n",
    "\n",
    "# download and load the training data\n",
    "trainset = datasets.MNIST('~/.pytorch/MNIST_data/', download = True, train = True, transform = transform)\n",
    "trainloader = torch.utils.data.DataLoader(trainset, batch_size = 64, shuffle = True)"
   ]
  },
  {
   "cell_type": "code",
   "execution_count": 4,
   "metadata": {},
   "outputs": [
    {
     "name": "stdout",
     "output_type": "stream",
     "text": [
      "<class 'torch.Tensor'>\n",
      "torch.Size([64, 1, 28, 28])\n",
      "torch.Size([64])\n"
     ]
    }
   ],
   "source": [
    "dataiter = iter(trainloader)\n",
    "images, labels = dataiter.next()\n",
    "print(type(images))\n",
    "print(images.shape)\n",
    "print(labels.shape)"
   ]
  },
  {
   "cell_type": "code",
   "execution_count": 5,
   "metadata": {},
   "outputs": [
    {
     "data": {
      "text/plain": [
       "<matplotlib.image.AxesImage at 0x143bc7a9c88>"
      ]
     },
     "execution_count": 5,
     "metadata": {},
     "output_type": "execute_result"
    },
    {
     "data": {
      "image/png": "[encoded data removed]",
      "text/plain": [
       "<Figure size 432x288 with 1 Axes>"
      ]
     },
     "metadata": {
      "image/png": {
       "height": 250,
       "width": 253
      },
      "needs_background": "light"
     },
     "output_type": "display_data"
    }
   ],
   "source": [
    "plt.imshow(images[1].numpy().squeeze(), cmap = 'Greys_r')"
   ]
  },
  {
   "cell_type": "code",
   "execution_count": 14,
   "metadata": {},
   "outputs": [],
   "source": [
    "def activation(x):\n",
    "    return 1/(1+torch.exp(-x))\n",
    "\n",
    "# flatten the input images\n",
    "inputs = images.view(images.shape[0], -1)\n",
    "\n",
    "# create parameters\n",
    "w1 = torch.randn(784, 256)\n",
    "b1 = torch.randn(256)\n",
    "\n",
    "w2 = torch.randn(256, 10)\n",
    "b2 = torch.randn(10)\n",
    "\n",
    "# h = activation(torch.mm(inputs, w1) + b1)\n",
    "h = activation(torch.mm(inputs, w1) + b1)\n",
    "\n",
    "out = torch.mm(h, w2) + b2"
   ]
  },
  {
   "cell_type": "code",
   "execution_count": 16,
   "metadata": {},
   "outputs": [
    {
     "name": "stdout",
     "output_type": "stream",
     "text": [
      "torch.Size([64, 10])\n",
      "tensor([1.0000, 1.0000, 1.0000, 1.0000, 1.0000, 1.0000, 1.0000, 1.0000, 1.0000,\n",
      "        1.0000, 1.0000, 1.0000, 1.0000, 1.0000, 1.0000, 1.0000, 1.0000, 1.0000,\n",
      "        1.0000, 1.0000, 1.0000, 1.0000, 1.0000, 1.0000, 1.0000, 1.0000, 1.0000,\n",
      "        1.0000, 1.0000, 1.0000, 1.0000, 1.0000, 1.0000, 1.0000, 1.0000, 1.0000,\n",
      "        1.0000, 1.0000, 1.0000, 1.0000, 1.0000, 1.0000, 1.0000, 1.0000, 1.0000,\n",
      "        1.0000, 1.0000, 1.0000, 1.0000, 1.0000, 1.0000, 1.0000, 1.0000, 1.0000,\n",
      "        1.0000, 1.0000, 1.0000, 1.0000, 1.0000, 1.0000, 1.0000, 1.0000, 1.0000,\n",
      "        1.0000])\n"
     ]
    }
   ],
   "source": [
    "def softmax(x):\n",
    "    return torch.exp(x)/torch.sum(torch.exp(x), dim = 1).view(-1,1)\n",
    "\n",
    "probabilities = softmax(out)\n",
    "\n",
    "print(probabilities.shape)\n",
    "print(probabilities.sum(dim = 1))"
   ]
  },
  {
   "cell_type": "markdown",
   "metadata": {},
   "source": [
    "### Building networks with PyTorch"
   ]
  },
  {
   "cell_type": "code",
   "execution_count": 17,
   "metadata": {},
   "outputs": [],
   "source": [
    "from torch import nn"
   ]
  },
  {
   "cell_type": "code",
   "execution_count": 18,
   "metadata": {},
   "outputs": [],
   "source": [
    "class Network(nn.Module):\n",
    "    def __init__(self):\n",
    "        super().__init__()\n",
    "        \n",
    "        self.hidden = nn.Linear(784, 256)\n",
    "        self.output = nn.Linear(256, 10)\n",
    "        \n",
    "        self.sigmoid = nn.Sigmoid()\n",
    "        self.softmax = nn.Softmax(dim = 1)\n",
    "        \n",
    "    def forward(self, x):\n",
    "        x = self.hidden(x)\n",
    "        x = self.sigmoid(x)\n",
    "        x = self.output(x)\n",
    "        x = self.softmax(x)\n",
    "        \n",
    "        return x"
   ]
  },
  {
   "cell_type": "code",
   "execution_count": 19,
   "metadata": {},
   "outputs": [
    {
     "data": {
      "text/plain": [
       "Network(\n",
       "  (hidden): Linear(in_features=784, out_features=256, bias=True)\n",
       "  (output): Linear(in_features=256, out_features=10, bias=True)\n",
       "  (sigmoid): Sigmoid()\n",
       "  (softmax): Softmax()\n",
       ")"
      ]
     },
     "execution_count": 19,
     "metadata": {},
     "output_type": "execute_result"
    }
   ],
   "source": [
    "model = Network()\n",
    "model"
   ]
  },
  {
   "cell_type": "code",
   "execution_count": 20,
   "metadata": {},
   "outputs": [],
   "source": [
    "import torch.nn.functional as F"
   ]
  },
  {
   "cell_type": "code",
   "execution_count": 22,
   "metadata": {},
   "outputs": [],
   "source": [
    "class Network(nn.Module):\n",
    "    def __init__(self):\n",
    "        super().__init__()\n",
    "        \n",
    "        self.hidden = nn.Linear(784, 256)\n",
    "        self.output = nn.Linear(256, 10)\n",
    "        \n",
    "    def forward(x, self):\n",
    "        x = F.sigmoid(sef.hidden(x))\n",
    "        x = F.softmax(self.output(x), dim = 1)\n",
    "        \n",
    "        return x"
   ]
  },
  {
   "cell_type": "code",
   "execution_count": 23,
   "metadata": {},
   "outputs": [
    {
     "data": {
      "text/plain": [
       "Network(\n",
       "  (hidden): Linear(in_features=784, out_features=256, bias=True)\n",
       "  (output): Linear(in_features=256, out_features=10, bias=True)\n",
       ")"
      ]
     },
     "execution_count": 23,
     "metadata": {},
     "output_type": "execute_result"
    }
   ],
   "source": [
    "model = Network()\n",
    "model"
   ]
  },
  {
   "cell_type": "code",
   "execution_count": 24,
   "metadata": {},
   "outputs": [
    {
     "data": {
      "text/plain": [
       "Network(\n",
       "  (fc1): Linear(in_features=784, out_features=128, bias=True)\n",
       "  (fc2): Linear(in_features=128, out_features=64, bias=True)\n",
       "  (fc3): Linear(in_features=64, out_features=10, bias=True)\n",
       "  (relu): ReLU()\n",
       "  (softmax): Softmax()\n",
       ")"
      ]
     },
     "execution_count": 24,
     "metadata": {},
     "output_type": "execute_result"
    }
   ],
   "source": [
    "class Network(nn.Module):\n",
    "    def __init__(self):\n",
    "        super().__init__()\n",
    "        \n",
    "        self.fc1 = nn.Linear(784, 128)\n",
    "        self.fc2 = nn.Linear(128, 64)\n",
    "        self.fc3 = nn.Linear(64, 10)\n",
    "        \n",
    "        self.relu = nn.ReLU()\n",
    "        self.softmax = nn.Softmax(dim =1)\n",
    "        \n",
    "    def forward(self, x):\n",
    "        x = self.fc1(x)\n",
    "        x = self.relu(x)\n",
    "        x = self.fc2(x)\n",
    "        x = self.relu(x)\n",
    "        x = self.fc3(x)\n",
    "        x = self.softmax(x)\n",
    "        \n",
    "        return x\n",
    "    \n",
    "model = Network()\n",
    "model"
   ]
  },
  {
   "cell_type": "code",
   "execution_count": 25,
   "metadata": {},
   "outputs": [
    {
     "data": {
      "text/plain": [
       "Network(\n",
       "  (fc1): Linear(in_features=784, out_features=128, bias=True)\n",
       "  (fc2): Linear(in_features=128, out_features=64, bias=True)\n",
       "  (fc3): Linear(in_features=64, out_features=10, bias=True)\n",
       ")"
      ]
     },
     "execution_count": 25,
     "metadata": {},
     "output_type": "execute_result"
    }
   ],
   "source": [
    "class Network(nn.Module):\n",
    "    def __init__(self):\n",
    "        super().__init__()\n",
    "        \n",
    "        self.fc1 = nn.Linear(784, 128)\n",
    "        self.fc2 = nn.Linear(128, 64)\n",
    "        self.fc3 = nn.Linear(64, 10)\n",
    "        \n",
    "    def forward(self, x):\n",
    "        x = F.relu(self.fc1(x))\n",
    "        x = F.relu(self.fc2(x))\n",
    "        x = F.softmax(self.fc3(x), dim = 1)\n",
    "        \n",
    "        return x\n",
    "    \n",
    "model = Network()\n",
    "model"
   ]
  },
  {
   "cell_type": "code",
   "execution_count": 26,
   "metadata": {},
   "outputs": [
    {
     "data": {
      "text/plain": [
       "Parameter containing:\n",
       "tensor([[-0.0048, -0.0213,  0.0353,  ..., -0.0331, -0.0269,  0.0012],\n",
       "        [-0.0288,  0.0116,  0.0195,  ..., -0.0115, -0.0142, -0.0187],\n",
       "        [-0.0319, -0.0024,  0.0193,  ..., -0.0041, -0.0213, -0.0295],\n",
       "        ...,\n",
       "        [-0.0041,  0.0158, -0.0136,  ..., -0.0051, -0.0334,  0.0018],\n",
       "        [ 0.0014,  0.0069,  0.0190,  ...,  0.0239, -0.0105, -0.0009],\n",
       "        [ 0.0267, -0.0272,  0.0220,  ...,  0.0019,  0.0254, -0.0139]],\n",
       "       requires_grad=True)"
      ]
     },
     "execution_count": 26,
     "metadata": {},
     "output_type": "execute_result"
    },
    {
     "data": {
      "text/plain": [
       "Parameter containing:\n",
       "tensor([ 1.9943e-02, -2.2862e-02, -3.4880e-03,  1.6226e-02, -2.5503e-02,\n",
       "        -2.3516e-02, -1.9977e-03, -5.2336e-03, -2.6561e-02,  9.8465e-03,\n",
       "        -8.2610e-03, -1.4483e-02, -9.1596e-03,  4.9340e-03,  3.0165e-02,\n",
       "         1.8136e-02, -1.8846e-02,  1.8615e-02,  2.8336e-02,  3.3081e-02,\n",
       "        -2.8043e-02, -5.2178e-03, -1.3931e-02, -3.4195e-02, -1.6919e-02,\n",
       "         1.4050e-02,  1.7589e-02,  1.7465e-02,  1.2319e-02, -2.0653e-02,\n",
       "        -3.1712e-02, -2.9405e-02, -1.1232e-02, -2.3702e-04,  3.1335e-02,\n",
       "        -2.9985e-02, -1.5707e-02, -6.8075e-03, -3.4461e-02,  1.5551e-02,\n",
       "         4.4367e-03,  2.1798e-02, -2.1686e-02,  4.4985e-03,  3.1561e-02,\n",
       "         2.0731e-02,  9.8761e-03, -2.7678e-02,  5.0443e-03, -1.5415e-02,\n",
       "        -2.6384e-02, -1.4206e-02, -2.0603e-02, -7.1518e-03,  2.7945e-02,\n",
       "         3.5657e-02, -2.8852e-02,  1.7490e-02, -3.2891e-02,  7.1302e-06,\n",
       "         2.6084e-03,  8.9639e-03,  2.9263e-03, -2.4608e-02, -1.0348e-02,\n",
       "         2.9832e-02, -2.5461e-02,  9.9671e-03,  1.5119e-02,  1.2338e-02,\n",
       "         2.4492e-02,  8.5528e-03, -1.5934e-03,  1.9215e-02,  2.9472e-02,\n",
       "        -4.0752e-03, -2.3314e-02,  1.6468e-02,  2.5789e-02, -1.5211e-02,\n",
       "        -2.2589e-02,  3.6522e-03, -2.9749e-02, -2.1626e-02,  1.3851e-02,\n",
       "         8.5673e-03, -5.8155e-03,  2.1275e-02,  2.9421e-02, -7.7062e-03,\n",
       "        -2.4251e-03,  1.2457e-02, -1.6959e-02, -3.3710e-02, -5.5753e-03,\n",
       "         1.5450e-03,  8.1086e-03,  2.3018e-02, -2.5815e-02, -1.6242e-02,\n",
       "        -2.9653e-03, -1.5958e-02, -3.1718e-02,  3.4815e-02,  3.3385e-02,\n",
       "         1.3160e-02,  9.6504e-03,  9.5710e-03, -1.2584e-02,  8.8913e-03,\n",
       "        -2.7786e-03, -3.1014e-02,  1.1638e-02,  2.5601e-02,  4.3000e-03,\n",
       "         1.9710e-02,  3.1370e-02, -5.3440e-03,  1.8544e-02,  2.7132e-02,\n",
       "         2.5820e-02,  2.0710e-02, -2.6143e-02, -5.2299e-03, -3.2456e-02,\n",
       "         3.1595e-02, -1.2845e-02, -2.0327e-02], requires_grad=True)"
      ]
     },
     "execution_count": 26,
     "metadata": {},
     "output_type": "execute_result"
    }
   ],
   "source": [
    "model.fc1.weight\n",
    "model.fc1.bias"
   ]
  },
  {
   "cell_type": "code",
   "execution_count": 27,
   "metadata": {},
   "outputs": [
    {
     "data": {
      "text/plain": [
       "tensor([0., 0., 0., 0., 0., 0., 0., 0., 0., 0., 0., 0., 0., 0., 0., 0., 0., 0.,\n",
       "        0., 0., 0., 0., 0., 0., 0., 0., 0., 0., 0., 0., 0., 0., 0., 0., 0., 0.,\n",
       "        0., 0., 0., 0., 0., 0., 0., 0., 0., 0., 0., 0., 0., 0., 0., 0., 0., 0.,\n",
       "        0., 0., 0., 0., 0., 0., 0., 0., 0., 0., 0., 0., 0., 0., 0., 0., 0., 0.,\n",
       "        0., 0., 0., 0., 0., 0., 0., 0., 0., 0., 0., 0., 0., 0., 0., 0., 0., 0.,\n",
       "        0., 0., 0., 0., 0., 0., 0., 0., 0., 0., 0., 0., 0., 0., 0., 0., 0., 0.,\n",
       "        0., 0., 0., 0., 0., 0., 0., 0., 0., 0., 0., 0., 0., 0., 0., 0., 0., 0.,\n",
       "        0., 0.])"
      ]
     },
     "execution_count": 27,
     "metadata": {},
     "output_type": "execute_result"
    }
   ],
   "source": [
    "model.fc1.bias.data.fill_(0)"
   ]
  },
  {
   "cell_type": "code",
   "execution_count": 28,
   "metadata": {},
   "outputs": [
    {
     "data": {
      "text/plain": [
       "tensor([[ 0.0034,  0.0227, -0.0038,  ..., -0.0015, -0.0019, -0.0081],\n",
       "        [ 0.0176,  0.0072, -0.0017,  ..., -0.0056,  0.0005, -0.0040],\n",
       "        [ 0.0111, -0.0076, -0.0056,  ...,  0.0097,  0.0146,  0.0030],\n",
       "        ...,\n",
       "        [ 0.0032,  0.0161,  0.0248,  ..., -0.0026, -0.0167,  0.0061],\n",
       "        [ 0.0083, -0.0051, -0.0138,  ..., -0.0032,  0.0046,  0.0003],\n",
       "        [-0.0093, -0.0358, -0.0009,  ..., -0.0055,  0.0114, -0.0153]])"
      ]
     },
     "execution_count": 28,
     "metadata": {},
     "output_type": "execute_result"
    }
   ],
   "source": [
    "model.fc1.weight.data.normal_(std = 0.01)"
   ]
  },
  {
   "cell_type": "code",
   "execution_count": 29,
   "metadata": {},
   "outputs": [
    {
     "data": {
      "text/plain": [
       "tensor([[[-1.0000, -1.0000, -1.0000,  ..., -1.0000, -1.0000, -1.0000]],\n",
       "\n",
       "        [[-1.0000, -1.0000, -1.0000,  ..., -1.0000, -1.0000, -1.0000]],\n",
       "\n",
       "        [[-1.0000, -1.0000, -1.0000,  ..., -1.0000, -1.0000, -1.0000]],\n",
       "\n",
       "        ...,\n",
       "\n",
       "        [[-1.0000, -1.0000, -1.0000,  ..., -1.0000, -1.0000, -1.0000]],\n",
       "\n",
       "        [[-1.0000, -1.0000, -1.0000,  ..., -1.0000, -1.0000, -1.0000]],\n",
       "\n",
       "        [[-1.0000, -1.0000, -1.0000,  ..., -1.0000, -1.0000, -1.0000]]])"
      ]
     },
     "execution_count": 29,
     "metadata": {},
     "output_type": "execute_result"
    },
    {
     "data": {
      "image/png": "[encoded data removed]",
      "text/plain": [
       "<Figure size 432x648 with 2 Axes>"
      ]
     },
     "metadata": {
      "image/png": {
       "height": 226,
       "width": 423
      },
      "needs_background": "light"
     },
     "output_type": "display_data"
    }
   ],
   "source": [
    "dataiter = iter(trainloader)\n",
    "images, labels = dataiter.next()\n",
    "\n",
    "images.resize_(64, 1, 784)\n",
    "\n",
    "img_idx = 0\n",
    "ps = model.forward(images[img_idx,:])\n",
    "\n",
    "img = images[img_idx]\n",
    "helper.view_classify(img.view(1, 28, 28), ps)"
   ]
  },
  {
   "cell_type": "code",
   "execution_count": 30,
   "metadata": {},
   "outputs": [
    {
     "name": "stdout",
     "output_type": "stream",
     "text": [
      "Sequential(\n",
      "  (0): Linear(in_features=784, out_features=128, bias=True)\n",
      "  (1): ReLU()\n",
      "  (2): Linear(in_features=128, out_features=64, bias=True)\n",
      "  (3): ReLU()\n",
      "  (4): Linear(in_features=64, out_features=10, bias=True)\n",
      "  (5): Softmax()\n",
      ")\n"
     ]
    }
   ],
   "source": [
    "input_size = 784\n",
    "hidden_sizes = [128, 64]\n",
    "output_size = 10\n",
    "\n",
    "model = nn.Sequential(nn.Linear(input_size, hidden_sizes[0]), \n",
    "                     nn.ReLU(),\n",
    "                     nn.Linear(hidden_sizes[0], hidden_sizes[1]), \n",
    "                     nn.ReLU(),\n",
    "                     nn.Linear(hidden_sizes[1], output_size),\n",
    "                     nn.Softmax(dim = 1))\n",
    "print(model)"
   ]
  },
  {
   "cell_type": "code",
   "execution_count": 31,
   "metadata": {},
   "outputs": [
    {
     "data": {
      "text/plain": [
       "tensor([[[-1.0000, -1.0000, -1.0000,  ..., -1.0000, -1.0000, -1.0000]],\n",
       "\n",
       "        [[-1.0000, -1.0000, -1.0000,  ..., -1.0000, -1.0000, -1.0000]],\n",
       "\n",
       "        [[-1.0000, -1.0000, -1.0000,  ..., -1.0000, -1.0000, -1.0000]],\n",
       "\n",
       "        ...,\n",
       "\n",
       "        [[-1.0000, -1.0000, -1.0000,  ..., -1.0000, -1.0000, -1.0000]],\n",
       "\n",
       "        [[-1.0000, -1.0000, -1.0000,  ..., -1.0000, -1.0000, -1.0000]],\n",
       "\n",
       "        [[-1.0000, -1.0000, -1.0000,  ..., -1.0000, -1.0000, -1.0000]]])"
      ]
     },
     "execution_count": 31,
     "metadata": {},
     "output_type": "execute_result"
    },
    {
     "data": {
      "image/png": "[encoded data removed]",
      "text/plain": [
       "<Figure size 432x648 with 2 Axes>"
      ]
     },
     "metadata": {
      "image/png": {
       "height": 226,
       "width": 423
      },
      "needs_background": "light"
     },
     "output_type": "display_data"
    }
   ],
   "source": [
    "# forward pass\n",
    "images, labels = next(iter(trainloader))\n",
    "images.resize_(images.shape[0], 1, 784)\n",
    "ps = model.forward(images[0,:])\n",
    "helper.view_classify(images[0].view(1,28,28), ps)"
   ]
  },
  {
   "cell_type": "code",
   "execution_count": 32,
   "metadata": {},
   "outputs": [
    {
     "name": "stdout",
     "output_type": "stream",
     "text": [
      "Linear(in_features=784, out_features=128, bias=True)\n"
     ]
    },
    {
     "data": {
      "text/plain": [
       "Parameter containing:\n",
       "tensor([[ 0.0185,  0.0179,  0.0310,  ...,  0.0081, -0.0315, -0.0102],\n",
       "        [ 0.0078, -0.0040,  0.0337,  ...,  0.0127,  0.0023, -0.0296],\n",
       "        [ 0.0070,  0.0176,  0.0198,  ...,  0.0263, -0.0338,  0.0018],\n",
       "        ...,\n",
       "        [-0.0246, -0.0046, -0.0145,  ...,  0.0080, -0.0162, -0.0339],\n",
       "        [ 0.0098,  0.0229, -0.0102,  ..., -0.0080,  0.0065,  0.0310],\n",
       "        [-0.0206, -0.0337,  0.0090,  ..., -0.0214, -0.0258, -0.0048]],\n",
       "       requires_grad=True)"
      ]
     },
     "execution_count": 32,
     "metadata": {},
     "output_type": "execute_result"
    },
    {
     "data": {
      "text/plain": [
       "Parameter containing:\n",
       "tensor([ 0.0203, -0.0223,  0.0122,  0.0022,  0.0332,  0.0098, -0.0152, -0.0109,\n",
       "        -0.0033, -0.0098, -0.0074,  0.0349, -0.0261, -0.0317,  0.0316,  0.0093,\n",
       "         0.0325,  0.0198,  0.0051, -0.0084,  0.0139,  0.0206, -0.0195, -0.0187,\n",
       "         0.0258,  0.0344,  0.0048,  0.0206,  0.0025, -0.0021,  0.0311,  0.0338,\n",
       "         0.0020,  0.0077, -0.0342,  0.0012,  0.0348, -0.0115,  0.0277,  0.0098,\n",
       "        -0.0132, -0.0118, -0.0010, -0.0088,  0.0166,  0.0216, -0.0003, -0.0307,\n",
       "        -0.0280, -0.0259,  0.0314,  0.0022,  0.0073, -0.0086, -0.0155,  0.0158,\n",
       "        -0.0119, -0.0096,  0.0280, -0.0100, -0.0269,  0.0287,  0.0261, -0.0289,\n",
       "        -0.0269, -0.0261,  0.0287, -0.0103,  0.0287, -0.0089, -0.0224,  0.0046,\n",
       "         0.0002, -0.0342, -0.0284, -0.0048, -0.0290, -0.0213,  0.0164, -0.0063,\n",
       "        -0.0331,  0.0237,  0.0194,  0.0215, -0.0332, -0.0047,  0.0341, -0.0199,\n",
       "        -0.0213,  0.0263, -0.0045, -0.0224, -0.0303, -0.0125,  0.0196,  0.0293,\n",
       "        -0.0210, -0.0087,  0.0123, -0.0303, -0.0315,  0.0105,  0.0161,  0.0210,\n",
       "         0.0072,  0.0255, -0.0346,  0.0144, -0.0021, -0.0127, -0.0276,  0.0246,\n",
       "        -0.0172,  0.0037,  0.0301,  0.0245, -0.0127, -0.0028,  0.0140, -0.0074,\n",
       "         0.0213, -0.0260, -0.0071,  0.0070,  0.0336, -0.0117, -0.0184, -0.0251],\n",
       "       requires_grad=True)"
      ]
     },
     "execution_count": 32,
     "metadata": {},
     "output_type": "execute_result"
    }
   ],
   "source": [
    "print(model[0])\n",
    "model[0].weight\n",
    "model[0].bias"
   ]
  },
  {
   "cell_type": "code",
   "execution_count": 33,
   "metadata": {},
   "outputs": [
    {
     "data": {
      "text/plain": [
       "Sequential(\n",
       "  (fc1): Linear(in_features=784, out_features=128, bias=True)\n",
       "  (relu1): ReLU()\n",
       "  (fc2): Linear(in_features=128, out_features=64, bias=True)\n",
       "  (relu2): ReLU()\n",
       "  (fc3): Linear(in_features=64, out_features=10, bias=True)\n",
       "  (softmax): Softmax()\n",
       ")"
      ]
     },
     "execution_count": 33,
     "metadata": {},
     "output_type": "execute_result"
    }
   ],
   "source": [
    "from collections import OrderedDict\n",
    "model = nn.Sequential(OrderedDict([\n",
    "    ('fc1', nn.Linear(input_size, hidden_sizes[0])), \n",
    "    ('relu1', nn.ReLU()), \n",
    "    ('fc2', nn.Linear(hidden_sizes[0], hidden_sizes[1])), \n",
    "    ('relu2', nn.ReLU()), \n",
    "    ('fc3', nn.Linear(hidden_sizes[1], output_size)), \n",
    "    ('softmax', nn.Softmax(dim = 1))\n",
    "]))\n",
    "\n",
    "model"
   ]
  },
  {
   "cell_type": "code",
   "execution_count": 35,
   "metadata": {},
   "outputs": [
    {
     "data": {
      "text/plain": [
       "Linear(in_features=784, out_features=128, bias=True)"
      ]
     },
     "execution_count": 35,
     "metadata": {},
     "output_type": "execute_result"
    },
    {
     "data": {
      "text/plain": [
       "Linear(in_features=784, out_features=128, bias=True)"
      ]
     },
     "execution_count": 35,
     "metadata": {},
     "output_type": "execute_result"
    }
   ],
   "source": [
    "model[0]\n",
    "model.fc1"
   ]
  },
  {
   "cell_type": "code",
   "execution_count": 36,
   "metadata": {},
   "outputs": [
    {
     "name": "stdout",
     "output_type": "stream",
     "text": [
      "Linear(in_features=128, out_features=64, bias=True)\n",
      "Linear(in_features=128, out_features=64, bias=True)\n"
     ]
    }
   ],
   "source": [
    "print(model[2])\n",
    "print(model.fc2)"
   ]
  }
 ],
 "metadata": {
  "kernelspec": {
   "display_name": "Python 3",
   "language": "python",
   "name": "python3"
  },
  "language_info": {
   "codemirror_mode": {
    "name": "ipython",
    "version": 3
   },
   "file_extension": ".py",
   "mimetype": "text/x-python",
   "name": "python",
   "nbconvert_exporter": "python",
   "pygments_lexer": "ipython3",
   "version": "3.6.7"
  }
 },
 "nbformat": 4,
 "nbformat_minor": 2
}
