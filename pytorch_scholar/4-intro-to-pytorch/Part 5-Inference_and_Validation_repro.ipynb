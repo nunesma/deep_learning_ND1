{
 "cells": [
  {
   "cell_type": "markdown",
   "metadata": {},
   "source": [
    "## Inference and Validation"
   ]
  },
  {
   "cell_type": "code",
   "execution_count": 1,
   "metadata": {},
   "outputs": [],
   "source": [
    "import torch\n",
    "from torch import nn, optim\n",
    "import torch.nn.functional as F\n",
    "from torchvision import datasets, transforms\n",
    "import helper"
   ]
  },
  {
   "cell_type": "code",
   "execution_count": 2,
   "metadata": {},
   "outputs": [],
   "source": [
    "# define transform to normalize data\n",
    "transform = transforms.Compose([transforms.ToTensor(), \n",
    "                               transforms.Normalize((0.5,0.5,0.5), (0.5, 0.5, 0.5))])\n",
    "\n",
    "# download and load the training data\n",
    "trainset = datasets.FashionMNIST('~/.python/F_MNIST_data/', download = True, train = True, transform = transform)\n",
    "trainloader = torch.utils.data.DataLoader(trainset, batch_size = 64, shuffle = True)\n",
    "\n",
    "# download and load test data\n",
    "testset = datasets.FashionMNIST('~/.python/F_MINIST_data/', download = True, train = False, transform = transform)\n",
    "testloader = torch.utils.data.DataLoader(testset, batch_size = 64, shuffle = True)"
   ]
  },
  {
   "cell_type": "code",
   "execution_count": 3,
   "metadata": {},
   "outputs": [],
   "source": [
    "class Classifier(nn.Module):\n",
    "    def __init__(self):\n",
    "        super().__init__()\n",
    "        self.fc1 = nn.Linear(784, 256)\n",
    "        self.fc2 = nn.Linear(256, 128)\n",
    "        self.fc3 = nn.Linear(128, 64)\n",
    "        self.fc4 = nn.Linear(64,10)\n",
    "        \n",
    "    def forward(self, x):\n",
    "        x = x.view(x.shape[0], -1)\n",
    "        \n",
    "        x = F.relu(self.fc1(x))\n",
    "        x = F.relu(self.fc2(x))\n",
    "        x = F.relu(self.fc3(x))\n",
    "        x = F.log_softmax(self.fc4(x), dim =1)\n",
    "        \n",
    "        return x"
   ]
  },
  {
   "cell_type": "code",
   "execution_count": 4,
   "metadata": {},
   "outputs": [
    {
     "name": "stdout",
     "output_type": "stream",
     "text": [
      "Classifier(\n",
      "  (fc1): Linear(in_features=784, out_features=256, bias=True)\n",
      "  (fc2): Linear(in_features=256, out_features=128, bias=True)\n",
      "  (fc3): Linear(in_features=128, out_features=64, bias=True)\n",
      "  (fc4): Linear(in_features=64, out_features=10, bias=True)\n",
      ")\n"
     ]
    }
   ],
   "source": [
    "model = Classifier()\n",
    "print(model)"
   ]
  },
  {
   "cell_type": "code",
   "execution_count": 5,
   "metadata": {},
   "outputs": [
    {
     "name": "stdout",
     "output_type": "stream",
     "text": [
      "torch.Size([64, 10])\n"
     ]
    }
   ],
   "source": [
    "images, labels = next(iter(testloader))\n",
    "ps = torch.exp(model(images))\n",
    "print(ps.shape)"
   ]
  },
  {
   "cell_type": "code",
   "execution_count": 6,
   "metadata": {},
   "outputs": [
    {
     "name": "stdout",
     "output_type": "stream",
     "text": [
      "tensor([[7],\n",
      "        [7],\n",
      "        [7],\n",
      "        [7],\n",
      "        [7],\n",
      "        [7],\n",
      "        [7],\n",
      "        [7],\n",
      "        [7],\n",
      "        [7]])\n"
     ]
    }
   ],
   "source": [
    "top_p, top_class = ps.topk(1, dim = 1)\n",
    "print(top_class[:10, :])"
   ]
  },
  {
   "cell_type": "code",
   "execution_count": 7,
   "metadata": {},
   "outputs": [],
   "source": [
    "equals = top_class == labels.view(*top_class.shape)"
   ]
  },
  {
   "cell_type": "code",
   "execution_count": 8,
   "metadata": {},
   "outputs": [
    {
     "name": "stdout",
     "output_type": "stream",
     "text": [
      "Accuracy: 4.6875%\n"
     ]
    }
   ],
   "source": [
    "accuracy = torch.mean(equals.type(torch.FloatTensor))\n",
    "print(f\"Accuracy: {accuracy.item()*100}%\")"
   ]
  },
  {
   "cell_type": "code",
   "execution_count": 16,
   "metadata": {},
   "outputs": [
    {
     "name": "stdout",
     "output_type": "stream",
     "text": [
      "Epoch: 1/30.. Training Loss: 0.394.. Test Loss: 0.438.. Test Accuracy: 0.843\n",
      "Epoch: 2/30.. Training Loss: 0.360.. Test Loss: 0.394.. Test Accuracy: 0.858\n",
      "Epoch: 3/30.. Training Loss: 0.333.. Test Loss: 0.386.. Test Accuracy: 0.861\n",
      "Epoch: 4/30.. Training Loss: 0.315.. Test Loss: 0.387.. Test Accuracy: 0.863\n",
      "Epoch: 5/30.. Training Loss: 0.303.. Test Loss: 0.377.. Test Accuracy: 0.871\n",
      "Epoch: 6/30.. Training Loss: 0.293.. Test Loss: 0.363.. Test Accuracy: 0.872\n",
      "Epoch: 7/30.. Training Loss: 0.281.. Test Loss: 0.341.. Test Accuracy: 0.881\n",
      "Epoch: 8/30.. Training Loss: 0.274.. Test Loss: 0.379.. Test Accuracy: 0.874\n",
      "Epoch: 9/30.. Training Loss: 0.265.. Test Loss: 0.360.. Test Accuracy: 0.878\n",
      "Epoch: 10/30.. Training Loss: 0.258.. Test Loss: 0.380.. Test Accuracy: 0.871\n",
      "Epoch: 11/30.. Training Loss: 0.255.. Test Loss: 0.365.. Test Accuracy: 0.873\n",
      "Epoch: 12/30.. Training Loss: 0.251.. Test Loss: 0.363.. Test Accuracy: 0.877\n",
      "Epoch: 13/30.. Training Loss: 0.242.. Test Loss: 0.358.. Test Accuracy: 0.880\n",
      "Epoch: 14/30.. Training Loss: 0.239.. Test Loss: 0.384.. Test Accuracy: 0.879\n",
      "Epoch: 15/30.. Training Loss: 0.236.. Test Loss: 0.366.. Test Accuracy: 0.876\n",
      "Epoch: 16/30.. Training Loss: 0.228.. Test Loss: 0.379.. Test Accuracy: 0.877\n",
      "Epoch: 17/30.. Training Loss: 0.223.. Test Loss: 0.378.. Test Accuracy: 0.885\n",
      "Epoch: 18/30.. Training Loss: 0.224.. Test Loss: 0.371.. Test Accuracy: 0.883\n",
      "Epoch: 19/30.. Training Loss: 0.222.. Test Loss: 0.404.. Test Accuracy: 0.875\n",
      "Epoch: 20/30.. Training Loss: 0.212.. Test Loss: 0.373.. Test Accuracy: 0.886\n",
      "Epoch: 21/30.. Training Loss: 0.206.. Test Loss: 0.393.. Test Accuracy: 0.882\n",
      "Epoch: 22/30.. Training Loss: 0.208.. Test Loss: 0.401.. Test Accuracy: 0.881\n",
      "Epoch: 23/30.. Training Loss: 0.206.. Test Loss: 0.390.. Test Accuracy: 0.889\n",
      "Epoch: 24/30.. Training Loss: 0.199.. Test Loss: 0.397.. Test Accuracy: 0.885\n",
      "Epoch: 25/30.. Training Loss: 0.199.. Test Loss: 0.423.. Test Accuracy: 0.882\n",
      "Epoch: 26/30.. Training Loss: 0.194.. Test Loss: 0.450.. Test Accuracy: 0.888\n",
      "Epoch: 27/30.. Training Loss: 0.203.. Test Loss: 0.414.. Test Accuracy: 0.884\n",
      "Epoch: 28/30.. Training Loss: 0.187.. Test Loss: 0.426.. Test Accuracy: 0.882\n",
      "Epoch: 29/30.. Training Loss: 0.191.. Test Loss: 0.408.. Test Accuracy: 0.885\n",
      "Epoch: 30/30.. Training Loss: 0.178.. Test Loss: 0.431.. Test Accuracy: 0.881\n"
     ]
    }
   ],
   "source": [
    "# defining the loss\n",
    "criterion = nn.NLLLoss()\n",
    "# defining the optimizer\n",
    "optimizer = optim.Adam(model.parameters(), lr = 0.003)\n",
    "\n",
    "epochs = 30\n",
    "steps = 0\n",
    "\n",
    "train_losses, test_losses = [], []\n",
    "\n",
    "for e in range(epochs):\n",
    "    running_loss = 0\n",
    "    for images, labels in trainloader:\n",
    "        \n",
    "        optimizer.zero_grad()\n",
    "        \n",
    "        log_ps = model(images)\n",
    "        loss = criterion(log_ps, labels)\n",
    "        loss.backward()\n",
    "        optimizer.step()\n",
    "        \n",
    "        running_loss += loss.item()\n",
    "        \n",
    "    else:\n",
    "        test_loss = 0\n",
    "        accuracy = 0\n",
    "        \n",
    "        with torch.no_grad():\n",
    "            for images, labels in testloader:\n",
    "                log_ps = model(images)\n",
    "                test_loss += criterion(log_ps, labels)\n",
    "                \n",
    "                ps = torch.exp(log_ps)\n",
    "                top_p, top_class = ps.topk(1, dim = 1)\n",
    "                equals = top_class == labels.view(*top_class.shape)\n",
    "                accuracy += torch.mean(equals.type(torch.FloatTensor))\n",
    "                \n",
    "        train_losses.append(running_loss/len(trainloader))\n",
    "        test_losses.append(test_loss/len(testloader))\n",
    "        \n",
    "        print(\"Epoch: {}/{}..\".format(e+1, epochs), \n",
    "             \"Training Loss: {:.3f}..\".format(running_loss/len(trainloader)), \n",
    "             \"Test Loss: {:.3f}..\".format(test_loss/len(testloader)), \n",
    "             \"Test Accuracy: {:.3f}\".format(accuracy/len(testloader)))"
   ]
  },
  {
   "cell_type": "code",
   "execution_count": 17,
   "metadata": {},
   "outputs": [],
   "source": [
    "%matplotlib inline\n",
    "%config InlineBackend.figure_format = 'retina'\n",
    "\n",
    "import matplotlib.pyplot as plt"
   ]
  },
  {
   "cell_type": "code",
   "execution_count": 18,
   "metadata": {},
   "outputs": [
    {
     "data": {
      "text/plain": [
       "<matplotlib.legend.Legend at 0x1c2226b2ac8>"
      ]
     },
     "execution_count": 18,
     "metadata": {},
     "output_type": "execute_result"
    },
    {
     "data": {
      "image/png": "[encoded data removed]",
      "text/plain": [
       "<Figure size 432x288 with 1 Axes>"
      ]
     },
     "metadata": {
      "image/png": {
       "height": 250,
       "width": 380
      },
      "needs_background": "light"
     },
     "output_type": "display_data"
    }
   ],
   "source": [
    "plt.plot(train_losses, label = 'Training loss')\n",
    "plt.plot(test_losses, label = 'Validation loss')\n",
    "plt.legend(frameon = False)"
   ]
  },
  {
   "cell_type": "code",
   "execution_count": 9,
   "metadata": {},
   "outputs": [],
   "source": [
    "class Classifier(nn.Module):\n",
    "    def __init__(self):\n",
    "        super().__init__()\n",
    "        self.fc1 = nn.Linear(784, 256)\n",
    "        self.fc2 = nn.Linear(256, 128)\n",
    "        self.fc3 = nn.Linear(128, 64)\n",
    "        self.fc4 = nn.Linear(64, 10)\n",
    "        \n",
    "        self.dropout = nn.Dropout(p = 0.2)\n",
    "        \n",
    "    def forward(self, x):\n",
    "        x = x.view(x.shape[0], -1)\n",
    "        \n",
    "        x = self.dropout(F.relu(self.fc1(x)))\n",
    "        x = self.dropout(F.relu(self.fc2(x)))\n",
    "        x = self.dropout(F.relu(self.fc3(x)))\n",
    "        \n",
    "        x = F.log_softmax(self.fc4(x), dim = 1)\n",
    "        \n",
    "        return x"
   ]
  },
  {
   "cell_type": "code",
   "execution_count": 11,
   "metadata": {},
   "outputs": [],
   "source": [
    "model = Classifier()\n",
    "criterion = nn.NLLLoss()\n",
    "optimizer = optim.Adam(model.parameters(), lr = 0.003)"
   ]
  },
  {
   "cell_type": "code",
   "execution_count": 12,
   "metadata": {},
   "outputs": [
    {
     "data": {
      "text/plain": [
       "Classifier(\n",
       "  (fc1): Linear(in_features=784, out_features=256, bias=True)\n",
       "  (fc2): Linear(in_features=256, out_features=128, bias=True)\n",
       "  (fc3): Linear(in_features=128, out_features=64, bias=True)\n",
       "  (fc4): Linear(in_features=64, out_features=10, bias=True)\n",
       "  (dropout): Dropout(p=0.2)\n",
       ")"
      ]
     },
     "execution_count": 12,
     "metadata": {},
     "output_type": "execute_result"
    }
   ],
   "source": [
    "model"
   ]
  },
  {
   "cell_type": "code",
   "execution_count": 17,
   "metadata": {},
   "outputs": [
    {
     "name": "stdout",
     "output_type": "stream",
     "text": [
      "Epoch:1/30.. Training Loss: 0.402.. Test Loss: 0.417.. Test Accuracy: 0.852..\n",
      "Epoch:2/30.. Training Loss: 0.461.. Test Loss: 0.418.. Test Accuracy: 0.851..\n",
      "Epoch:3/30.. Training Loss: 0.435.. Test Loss: 0.423.. Test Accuracy: 0.846..\n",
      "Epoch:4/30.. Training Loss: 0.417.. Test Loss: 0.414.. Test Accuracy: 0.853..\n",
      "Epoch:5/30.. Training Loss: 0.408.. Test Loss: 0.403.. Test Accuracy: 0.856..\n",
      "Epoch:6/30.. Training Loss: 0.400.. Test Loss: 0.407.. Test Accuracy: 0.855..\n",
      "Epoch:7/30.. Training Loss: 0.404.. Test Loss: 0.391.. Test Accuracy: 0.866..\n",
      "Epoch:8/30.. Training Loss: 0.394.. Test Loss: 0.396.. Test Accuracy: 0.867..\n",
      "Epoch:9/30.. Training Loss: 0.386.. Test Loss: 0.389.. Test Accuracy: 0.858..\n",
      "Epoch:10/30.. Training Loss: 0.386.. Test Loss: 0.385.. Test Accuracy: 0.866..\n",
      "Epoch:11/30.. Training Loss: 0.380.. Test Loss: 0.385.. Test Accuracy: 0.861..\n",
      "Epoch:12/30.. Training Loss: 0.384.. Test Loss: 0.381.. Test Accuracy: 0.867..\n",
      "Epoch:13/30.. Training Loss: 0.378.. Test Loss: 0.371.. Test Accuracy: 0.871..\n",
      "Epoch:14/30.. Training Loss: 0.372.. Test Loss: 0.394.. Test Accuracy: 0.861..\n",
      "Epoch:15/30.. Training Loss: 0.375.. Test Loss: 0.368.. Test Accuracy: 0.870..\n",
      "Epoch:16/30.. Training Loss: 0.370.. Test Loss: 0.379.. Test Accuracy: 0.868..\n",
      "Epoch:17/30.. Training Loss: 0.369.. Test Loss: 0.391.. Test Accuracy: 0.865..\n",
      "Epoch:18/30.. Training Loss: 0.362.. Test Loss: 0.362.. Test Accuracy: 0.872..\n",
      "Epoch:19/30.. Training Loss: 0.359.. Test Loss: 0.388.. Test Accuracy: 0.865..\n",
      "Epoch:20/30.. Training Loss: 0.355.. Test Loss: 0.372.. Test Accuracy: 0.872..\n",
      "Epoch:21/30.. Training Loss: 0.356.. Test Loss: 0.373.. Test Accuracy: 0.872..\n",
      "Epoch:22/30.. Training Loss: 0.361.. Test Loss: 0.372.. Test Accuracy: 0.866..\n",
      "Epoch:23/30.. Training Loss: 0.348.. Test Loss: 0.390.. Test Accuracy: 0.870..\n",
      "Epoch:24/30.. Training Loss: 0.360.. Test Loss: 0.380.. Test Accuracy: 0.869..\n",
      "Epoch:25/30.. Training Loss: 0.348.. Test Loss: 0.379.. Test Accuracy: 0.870..\n",
      "Epoch:26/30.. Training Loss: 0.349.. Test Loss: 0.384.. Test Accuracy: 0.872..\n",
      "Epoch:27/30.. Training Loss: 0.350.. Test Loss: 0.374.. Test Accuracy: 0.875..\n",
      "Epoch:28/30.. Training Loss: 0.349.. Test Loss: 0.382.. Test Accuracy: 0.868..\n",
      "Epoch:29/30.. Training Loss: 0.346.. Test Loss: 0.376.. Test Accuracy: 0.877..\n",
      "Epoch:30/30.. Training Loss: 0.347.. Test Loss: 0.385.. Test Accuracy: 0.872..\n"
     ]
    }
   ],
   "source": [
    "epochs = 30\n",
    "steps = 0\n",
    "\n",
    "train_losses, test_losses = [], []\n",
    "\n",
    "for e in range(epochs):\n",
    "    running_loss = 0\n",
    "    for images, labels in trainloader:\n",
    "        \n",
    "        optimizer.zero_grad()\n",
    "        \n",
    "        log_ps = model(images)\n",
    "        loss = criterion(log_ps, labels)\n",
    "        loss.backward()\n",
    "        optimizer.step()\n",
    "        \n",
    "        running_loss += loss.item()\n",
    "        \n",
    "    else:\n",
    "        test_loss = 0\n",
    "        accuracy = 0\n",
    "        \n",
    "        with torch.no_grad():\n",
    "            model.eval()\n",
    "            for images, labels in testloader:\n",
    "                log_ps = model(images)\n",
    "                test_loss += criterion(log_ps, labels)\n",
    "                \n",
    "                ps = torch.exp(log_ps)\n",
    "                top_p, top_class = ps.topk(1, dim=1)\n",
    "                equals = top_class == labels.view(*top_class.shape)\n",
    "                accuracy += torch.mean(equals.type(torch.FloatTensor))\n",
    "                \n",
    "            model.train()\n",
    "            \n",
    "            train_losses.append(running_loss/len(trainloader))\n",
    "            test_losses.append(test_loss/len(testloader))\n",
    "            \n",
    "            print(\"Epoch:{}/{}..\".format(e+1, epochs), \n",
    "                 \"Training Loss: {:.3f}..\".format(train_losses[-1]),\n",
    "                 \"Test Loss: {:.3f}..\".format(test_losses[-1]),\n",
    "                 \"Test Accuracy: {:.3f}..\".format(accuracy/len(testloader)))"
   ]
  },
  {
   "cell_type": "code",
   "execution_count": 18,
   "metadata": {},
   "outputs": [],
   "source": [
    "%matplotlib inline\n",
    "%config InlineBackemd.figure_format = 'retina'\n",
    "\n",
    "import matplotlib.pyplot as plt"
   ]
  },
  {
   "cell_type": "code",
   "execution_count": 19,
   "metadata": {},
   "outputs": [
    {
     "data": {
      "text/plain": [
       "<matplotlib.legend.Legend at 0x28ce152d630>"
      ]
     },
     "execution_count": 19,
     "metadata": {},
     "output_type": "execute_result"
    },
    {
     "data": {
      "image/png": "[encoded data removed]",
      "text/plain": [
       "<Figure size 432x288 with 1 Axes>"
      ]
     },
     "metadata": {
      "needs_background": "light"
     },
     "output_type": "display_data"
    }
   ],
   "source": [
    "plt.plot(train_losses, label = 'Training loss')\n",
    "plt.plot(test_losses, label = 'Validation loss')\n",
    "plt.legend(frameon = False)"
   ]
  },
  {
   "cell_type": "code",
   "execution_count": 21,
   "metadata": {},
   "outputs": [
    {
     "data": {
      "image/png": "[encoded data removed]",
      "text/plain": [
       "<Figure size 432x648 with 2 Axes>"
      ]
     },
     "metadata": {
      "needs_background": "light"
     },
     "output_type": "display_data"
    }
   ],
   "source": [
    "model.eval()\n",
    "\n",
    "dataiter = iter(testloader)\n",
    "images, labels = dataiter.next()\n",
    "img = images[0]\n",
    "img = img.view(1, 784)\n",
    "\n",
    "with torch.no_grad():\n",
    "    output = model.forward(img)\n",
    "    \n",
    "ps = torch.exp(output)\n",
    "\n",
    "helper.view_classify(img.view(1, 28, 28), ps, version = 'Fashion')"
   ]
  }
 ],
 "metadata": {
  "kernelspec": {
   "display_name": "Python 3",
   "language": "python",
   "name": "python3"
  },
  "language_info": {
   "codemirror_mode": {
    "name": "ipython",
    "version": 3
   },
   "file_extension": ".py",
   "mimetype": "text/x-python",
   "name": "python",
   "nbconvert_exporter": "python",
   "pygments_lexer": "ipython3",
   "version": "3.6.7"
  }
 },
 "nbformat": 4,
 "nbformat_minor": 2
}
