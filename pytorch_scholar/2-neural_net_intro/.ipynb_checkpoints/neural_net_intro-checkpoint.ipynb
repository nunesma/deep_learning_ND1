{
 "cells": [
  {
   "cell_type": "markdown",
   "metadata": {},
   "source": [
    "# Neural Network Introduction"
   ]
  },
  {
   "cell_type": "markdown",
   "metadata": {},
   "source": [
    "### What are the weights and bias for the AND perceptron?\n",
    "Set the weights (weight1, weight2) and bias (bias) to values that will correctly determine the AND operation as shown above.<br><br>\n",
    "More than one set of values will work!"
   ]
  },
  {
   "cell_type": "code",
   "execution_count": 3,
   "metadata": {},
   "outputs": [
    {
     "name": "stdout",
     "output_type": "stream",
     "text": [
      "Nice! You got it all correct.\n",
      "\n",
      "Input 1   Input 2   Linear Combination   Activation Output  Is Correct\n",
      "      0         0                 -1.0                   0         Yes\n",
      "      0         1                 -0.5                   0         Yes\n",
      "      1         0                 -0.5                   0         Yes\n",
      "      1         1                  0.0                   1         Yes\n"
     ]
    }
   ],
   "source": [
    "import pandas as pd\n",
    "\n",
    "# set weight1, weight2 and bias\n",
    "weight1 = 0.5\n",
    "weight2 = 0.5\n",
    "bias = -1.0\n",
    "\n",
    "# inputs and outputs\n",
    "test_inputs = [(0, 0), (0, 1), (1, 0), (1, 1)]\n",
    "correct_outputs = [False, False, False, True]\n",
    "outputs = []\n",
    "\n",
    "# generate and check output\n",
    "for test_input, correct_output in zip(test_inputs, correct_outputs):\n",
    "    linear_combination = weight1*test_input[0] + weight2*test_input[1] + bias\n",
    "    output = int(linear_combination >= 0)\n",
    "    is_correct_string = 'Yes' if output == correct_output else 'NO'\n",
    "    outputs.append([test_input[0], test_input[1], linear_combination, output, is_correct_string])\n",
    "    \n",
    "# print output\n",
    "num_wrong = len([output[4] for output in outputs if output[4] == 'NO'])\n",
    "output_frame = pd.DataFrame(outputs, columns=['Input 1', ' Input 2', \n",
    "                                              ' Linear Combination', \n",
    "                                              ' Activation Output', \n",
    "                                              ' Is Correct'])\n",
    "if not num_wrong:\n",
    "    print('Nice! You got it all correct.\\n')\n",
    "else:\n",
    "    print('You got {} wrong. Keep trying!\\n'.format(num_wrong))\n",
    "print(output_frame.to_string(index = False))\n"
   ]
  },
  {
   "cell_type": "markdown",
   "metadata": {},
   "source": [
    "### NOT Perceptron\n",
    "The NOT operation only cares about one input.<br><br> \n",
    "The operation returns a 0 if the input is 1 and a 1 if it's a 0. <br><br>\n",
    "The other inputs to the perceptron are ignored.<br><br>\n",
    "You'll set the weights (weight1, weight2) and bias bias to the values that calculate the NOT operation on the second input and ignores the first input."
   ]
  },
  {
   "cell_type": "code",
   "execution_count": 4,
   "metadata": {},
   "outputs": [
    {
     "name": "stdout",
     "output_type": "stream",
     "text": [
      "Nice! You got it all correct.\n",
      "\n",
      "Input 1   Input 2   Linear Combination   Activation Output  Is Correct\n",
      "      0         0                  1.0                   1         Yes\n",
      "      0         1                 -0.5                   0         Yes\n",
      "      1         0                  1.0                   1         Yes\n",
      "      1         1                 -0.5                   0         Yes\n"
     ]
    }
   ],
   "source": [
    "import pandas as pd\n",
    "\n",
    "# set weight1, weight2 and bias\n",
    "weight1 = 0.0\n",
    "weight2 = -1.5\n",
    "bias = 1.0\n",
    "\n",
    "# inputs and outputs\n",
    "test_inputs = [(0,0), (0,1), (1,0),(1,1)]\n",
    "correct_outputs = [True, False, True, False]\n",
    "outputs = []\n",
    "\n",
    "# generate and check output\n",
    "for test_input, correct_output in zip(test_inputs, correct_outputs):\n",
    "    linear_combination = weight1*test_input[0] + weight2*test_input[1] + bias\n",
    "    output = int(linear_combination >= 0)\n",
    "    is_correct_string = 'Yes' if output == correct_output else 'No'\n",
    "    outputs.append([test_input[0], test_input[1], linear_combination, output, is_correct_string])\n",
    "\n",
    "# print output\n",
    "num_wrong = len([output[4] for output in outputs if output[4] == 'No'])\n",
    "output_frame = pd.DataFrame(outputs, columns = ['Input 1', ' Input 2', \n",
    "                                                ' Linear Combination', \n",
    "                                                ' Activation Output', \n",
    "                                                ' Is Correct'])\n",
    "if not num_wrong:\n",
    "    print('Nice! You got it all correct.\\n')\n",
    "else:\n",
    "    print('You got {} wrong. Keep trying!\\n'.format(num_wrong))\n",
    "print(output_frame.to_string(index = False))"
   ]
  },
  {
   "cell_type": "markdown",
   "metadata": {},
   "source": [
    "### Coding the Perceptron Algorithm\n",
    "\n",
    "You will implement the perceptron algorithm to separate the following data (given in the file data.csv). <br><br>\n",
    "\n",
    "Recall that the perceptron step works as follows. For a point with coordinates (p,q), label y, and prediction given by the equation y = step(w_1x_1 + w_2x_2 + b):\n",
    "\n",
    "- If the point is correctly classified, do nothing.\n",
    "- If the point is classified positive, but it has a negative label, subtract αp,αq, and α from w_1, w_2 and b respectively.\n",
    "- If the point is classified negative, but it has a positive label, add αp,αq, and α to w_1, w_2 and bb respectively.<br><br>\n",
    "\n",
    "You will graph the solution that the perceptron algorithm gives you. It'll actually draw a set of dotted lines, that show how the algorithm approaches to the best solution, given by the black solid line. <br><br>\n",
    "\n",
    "Feel free to play with the parameters of the algorithm (number of epochs, learning rate, and even the randomizing of the initial parameters) to see how your initial conditions can affect the solution!"
   ]
  },
  {
   "cell_type": "code",
   "execution_count": null,
   "metadata": {},
   "outputs": [],
   "source": [
    "import pandas as pd\n",
    "import numpy as np\n",
    "\n",
    "# set the random seed\n",
    "np.random.seed(42)\n",
    "\n",
    "def stepFunction(t):\n",
    "    if t >= 0:\n",
    "        return 1\n",
    "    return 0\n",
    "\n",
    "def prediction(X, W, b):\n",
    "    return stepFunction((np.matmul(X, W) + b)[0])\n",
    "\n",
    "# The function receive as inputs: data X, labels y, weights W, bias b,\n",
    "# update the weights and bias W, b and return W and b\n",
    "def perceptronStep(X, y, W, b, learn_rate = 0.01):\n",
    "    for i in range(len(X)):\n",
    "        y_hat = prediction(X[i],W, b)\n",
    "        if y[i] - y_hat == 1:\n",
    "            W[0] += X[i][0] * learn_rate\n",
    "            W[1] += X[i][1] * learn_rate\n",
    "            b += learn_rate \n",
    "        elif y[i] - y_hat == -1:\n",
    "            W[0] -= X[i][0] * learn_rate\n",
    "            W[1] -= X[i][1] * learn_rate\n",
    "            b -= learn_rate\n",
    "    return W, b\n",
    "            \n",
    "# runs the perceptron algorithm repeatedly on the dataset,\n",
    "# and returns a few of the boundary lines obtained in the iterations,\n",
    "# for plotting purposes.\n",
    "def trainPerceptronAlgorithm(X, y, learn_rate = 0.01, num_epochs = 25):\n",
    "    x_min, x_max = min(X.T[0]), max(X.T[0])\n",
    "    y_min, y_max = min(X.T[1]), max(X.T[1])\n",
    "    W = np.array(np.random.rand(2,1))\n",
    "    b = np.random.rand(1)[0] + x_max\n",
    "    \n",
    "    # These are the solution lines that get plotted below.\n",
    "    for i in range(num_epochs):\n",
    "        # # These are the solution lines that get plotted below\n",
    "        W, b = perceptron\n",
    "\n",
    "\n",
    "\n",
    "\n",
    "\n"
   ]
  }
 ],
 "metadata": {
  "kernelspec": {
   "display_name": "Python 3",
   "language": "python",
   "name": "python3"
  },
  "language_info": {
   "codemirror_mode": {
    "name": "ipython",
    "version": 3
   },
   "file_extension": ".py",
   "mimetype": "text/x-python",
   "name": "python",
   "nbconvert_exporter": "python",
   "pygments_lexer": "ipython3",
   "version": "3.5.5"
  }
 },
 "nbformat": 4,
 "nbformat_minor": 2
}
