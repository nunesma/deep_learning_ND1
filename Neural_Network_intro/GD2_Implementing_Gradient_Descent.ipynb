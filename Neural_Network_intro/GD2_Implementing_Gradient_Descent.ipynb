{
 "cells": [
  {
   "cell_type": "markdown",
   "metadata": {},
   "source": [
    "We will use gradient descent to train a network on graduate school admissions data found at [UCLA's Home Page](http://www.ats.ucla.edu/stat/data/binary.csv).<br><br>\n",
    "This dataset has three input features: GRE score, GPA, and the rank of the undergraduate school (numbered 1 through 4).<br><br>\n",
    "Institutions with rank 1 have the highest prestige, those with rank 4 have the lowest.<br><br>\n",
    "The goal here will be to train the network until you reach a minimum in the mean square error (MSE) on the training set."
   ]
  },
  {
   "cell_type": "markdown",
   "metadata": {},
   "source": [
    "You will need to implement:\n",
    "\n",
    "- The network output: **output**.\n",
    "- The output error: **error**.\n",
    "- The error term: **error_term**.\n",
    "- Update the weight step: **del_w +=**.\n",
    "- Update the weights: **weights +=**."
   ]
  },
  {
   "cell_type": "code",
   "execution_count": 1,
   "metadata": {
    "collapsed": true
   },
   "outputs": [],
   "source": [
    "# Importing\n",
    "import numpy as np\n",
    "from data_prep import features, targets, features_test, targets_test"
   ]
  },
  {
   "cell_type": "markdown",
   "metadata": {},
   "source": [
    "Enter sigmoid ativation function"
   ]
  },
  {
   "cell_type": "code",
   "execution_count": 2,
   "metadata": {
    "collapsed": true
   },
   "outputs": [],
   "source": [
    "def sigmoid(x):\n",
    "    return 1/(1 + np.exp(-x))"
   ]
  },
  {
   "cell_type": "markdown",
   "metadata": {},
   "source": [
    "Using the same seed to make debugging easier"
   ]
  },
  {
   "cell_type": "code",
   "execution_count": 3,
   "metadata": {
    "collapsed": true
   },
   "outputs": [],
   "source": [
    "np.random.seed(42)\n",
    "\n",
    "# Defining number of records and features\n",
    "n_records, n_features = features.shape\n",
    "last_loss = None"
   ]
  },
  {
   "cell_type": "markdown",
   "metadata": {},
   "source": [
    "Initializing the weights.\n",
    "- It's desirable these to be small such that the input to the sigmoid is in the linear region near 0 and not squashed at the high and low ends.\n",
    "- It's also important to initialize them randomly so that they all have different starting values and diverge, breaking symmetry.\n",
    "- So, we'll initialize the weights from a normal distribution centered at 0.\n",
    "- A good value for the scale is 1/√n where n is the number of input units.\n",
    "- This keeps the input to the sigmoid low for increasing numbers of input units."
   ]
  },
  {
   "cell_type": "code",
   "execution_count": 4,
   "metadata": {
    "collapsed": true
   },
   "outputs": [],
   "source": [
    "# Initializing weights\n",
    "weights = np.random.normal(scale = 1/n_features**.5, size = n_features)"
   ]
  },
  {
   "cell_type": "markdown",
   "metadata": {},
   "source": [
    "Entering hyperparameters:\n",
    "- Epochs\n",
    "- Learn rate"
   ]
  },
  {
   "cell_type": "code",
   "execution_count": 6,
   "metadata": {
    "collapsed": true
   },
   "outputs": [],
   "source": [
    "epochs = 1000\n",
    "learnrate = 0.5"
   ]
  },
  {
   "cell_type": "markdown",
   "metadata": {},
   "source": [
    "Neural Network"
   ]
  },
  {
   "cell_type": "code",
   "execution_count": 7,
   "metadata": {},
   "outputs": [
    {
     "name": "stdout",
     "output_type": "stream",
     "text": [
      "('Train loss: ', 0.66914315930396695)\n"
     ]
    },
    {
     "name": "stderr",
     "output_type": "stream",
     "text": [
      "C:\\Users\\Marco\\Anaconda3\\envs\\py2\\lib\\site-packages\\ipykernel_launcher.py:2: RuntimeWarning: overflow encountered in exp\n",
      "  \n"
     ]
    },
    {
     "name": "stdout",
     "output_type": "stream",
     "text": [
      "('Train loss: ', 0.32499833553900465)\n",
      "('Train loss: ', 0.32499833326578603)\n",
      "('Train loss: ', 0.32499833099293657)\n",
      "('Train loss: ', 0.32499832872045081)\n",
      "('Train loss: ', 0.32499832644832349)\n",
      "('Train loss: ', 0.32499832417654906)\n",
      "('Train loss: ', 0.32499832190512223)\n",
      "('Train loss: ', 0.32499831963403758)\n",
      "('Train loss: ', 0.32499831736328971)\n"
     ]
    }
   ],
   "source": [
    "for e in range(epochs):\n",
    "    del_w = np.zeros(weights.shape)\n",
    "    for x, y in zip(features.values, targets):\n",
    "        # Calculate the output\n",
    "        output = sigmoid(np.dot(x, weights))\n",
    "        \n",
    "        # Calculate the error\n",
    "        error = y - output\n",
    "        \n",
    "        # Calculate error term\n",
    "        error_term = error * output * (1 - output)\n",
    "        \n",
    "        # Calculate the change in weights\n",
    "        del_w += error_term * x\n",
    "        \n",
    "    # Update weights\n",
    "    weights += learnrate * del_w / n_records\n",
    "    \n",
    "    # Printing out the mean square error on the training set\n",
    "    if e % (epochs / 10) == 0:\n",
    "        out = sigmoid(np.dot(features, weights))\n",
    "        loss = np.mean((out - targets) ** 2)\n",
    "        if last_loss and last_loss < loss:\n",
    "            print(\"Train loss: \", loss, \" Warning - Loss Increasing\")\n",
    "        else:\n",
    "            print(\"Train loss: \", loss)\n",
    "        last_loss = loss"
   ]
  },
  {
   "cell_type": "markdown",
   "metadata": {},
   "source": [
    "Calculating accuracy"
   ]
  },
  {
   "cell_type": "code",
   "execution_count": 8,
   "metadata": {},
   "outputs": [
    {
     "name": "stdout",
     "output_type": "stream",
     "text": [
      "Predictions accuracy: 0.750\n"
     ]
    },
    {
     "name": "stderr",
     "output_type": "stream",
     "text": [
      "C:\\Users\\Marco\\Anaconda3\\envs\\py2\\lib\\site-packages\\ipykernel_launcher.py:2: RuntimeWarning: overflow encountered in exp\n",
      "  \n"
     ]
    }
   ],
   "source": [
    "# Calculate accuracy on test data\n",
    "tes_out = sigmoid(np.dot(features_test, weights))\n",
    "predictions = tes_out > 0.5\n",
    "accuracy = np.mean(predictions == targets_test)\n",
    "print(\"Predictions accuracy: {:.3f}\". format(accuracy))"
   ]
  }
 ],
 "metadata": {
  "kernelspec": {
   "display_name": "Python 2",
   "language": "python",
   "name": "python2"
  },
  "language_info": {
   "codemirror_mode": {
    "name": "ipython",
    "version": 2
   },
   "file_extension": ".py",
   "mimetype": "text/x-python",
   "name": "python",
   "nbconvert_exporter": "python",
   "pygments_lexer": "ipython2",
   "version": "2.7.13"
  }
 },
 "nbformat": 4,
 "nbformat_minor": 2
}
