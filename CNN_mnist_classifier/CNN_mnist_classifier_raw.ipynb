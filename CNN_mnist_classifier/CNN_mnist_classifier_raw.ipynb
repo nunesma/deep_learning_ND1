{
 "cells": [
  {
   "cell_type": "markdown",
   "metadata": {
    "colab_type": "text",
    "id": "cscFke-Lcmm_"
   },
   "source": [
    "# CNN MNIST Classifier\n",
    "Objective: build a convolutional neural network to classify MNIST handwritten digits dataset<br><br>\n",
    "Based in Convolutional Neural Network Example\n",
    "- Author: Aymeric Damien\n",
    "- Project: https://github.com/aymericdamien/TensorFlow-Examples/ "
   ]
  },
  {
   "cell_type": "markdown",
   "metadata": {
    "colab_type": "text",
    "id": "SF8drK0SctTm"
   },
   "source": [
    "## MNIST Dataset Overview\n",
    "The dataset contains 60,000 examples for training and 10,000 examples for testing. <br>The digits have been size-normalized and centered in a fixed-size image (28x28 pixels) with values from 0 to 1.<br> For simplicity, each image has been flattened and converted to a 1-D numpy array of 784 features (28*28)."
   ]
  },
  {
   "cell_type": "code",
   "execution_count": 1,
   "metadata": {
    "colab": {
     "autoexec": {
      "startup": false,
      "wait_interval": 0
     },
     "base_uri": "https://localhost:8080/",
     "height": 153,
     "output_extras": [
      {
       "item_id": 2
      }
     ]
    },
    "colab_type": "code",
    "executionInfo": {
     "elapsed": 9381,
     "status": "ok",
     "timestamp": 1522530657558,
     "user": {
      "displayName": "Marco Nunes",
      "photoUrl": "//lh6.googleusercontent.com/-bYRyZI76_54/AAAAAAAAAAI/AAAAAAAABgQ/eyDrRlhqp8M/s50-c-k-no/photo.jpg",
      "userId": "103504250905254892290"
     },
     "user_tz": 180
    },
    "id": "61p6Xnpkb0re",
    "outputId": "17bd4dc9-dd6e-4c36-df33-ab1a8baa7405"
   },
   "outputs": [
    {
     "name": "stdout",
     "output_type": "stream",
     "text": [
      "Successfully downloaded train-images-idx3-ubyte.gz 9912422 bytes.\n",
      "Extracting /tmp/data/train-images-idx3-ubyte.gz\n",
      "Successfully downloaded train-labels-idx1-ubyte.gz 28881 bytes.\n",
      "Extracting /tmp/data/train-labels-idx1-ubyte.gz\n",
      "Successfully downloaded t10k-images-idx3-ubyte.gz 1648877 bytes.\n",
      "Extracting /tmp/data/t10k-images-idx3-ubyte.gz\n",
      "Successfully downloaded t10k-labels-idx1-ubyte.gz 4542 bytes.\n",
      "Extracting /tmp/data/t10k-labels-idx1-ubyte.gz\n"
     ]
    }
   ],
   "source": [
    "from __future__ import division, print_function, absolute_import\n",
    "import tensorflow as tf\n",
    "\n",
    "# import mnist data\n",
    "from tensorflow.examples.tutorials.mnist import input_data\n",
    "mnist = input_data.read_data_sets('/tmp/data/', one_hot = True)"
   ]
  },
  {
   "cell_type": "markdown",
   "metadata": {
    "colab_type": "text",
    "id": "1tZrle5YnOxR"
   },
   "source": [
    "### Hiperparameters"
   ]
  },
  {
   "cell_type": "code",
   "execution_count": 2,
   "metadata": {
    "colab": {
     "autoexec": {
      "startup": false,
      "wait_interval": 0
     }
    },
    "colab_type": "code",
    "collapsed": true,
    "id": "4Uv4dIwLgvjD"
   },
   "outputs": [],
   "source": [
    "# training parameters\n",
    "learning_rate = 0.001\n",
    "num_steps = 500\n",
    "batch_size = 128\n",
    "display_step = 10\n",
    "\n",
    "# network parameters\n",
    "num_input = 784\n",
    "num_classes = 10\n",
    "dropout = 0.75\n",
    "\n",
    "# tensorflow graph input\n",
    "X = tf.placeholder(tf.float32, [None, num_input])\n",
    "Y = tf.placeholder(tf.float32, [None, num_classes])\n",
    "keep_prob = tf.placeholder(tf.float32)"
   ]
  },
  {
   "cell_type": "markdown",
   "metadata": {
    "colab_type": "text",
    "id": "3tHqoFuAnUzk"
   },
   "source": [
    "### Convolution and polling functions"
   ]
  },
  {
   "cell_type": "code",
   "execution_count": 3,
   "metadata": {
    "colab": {
     "autoexec": {
      "startup": false,
      "wait_interval": 0
     }
    },
    "colab_type": "code",
    "collapsed": true,
    "id": "6AIDkJB6klyA"
   },
   "outputs": [],
   "source": [
    "# two functions: convolution and pooling\n",
    "def conv2d(x, W, b, strides = 1):\n",
    "  x = tf.nn.conv2d(x, W, strides = [1, strides, strides, 1], padding = \"SAME\")\n",
    "  x = tf.nn.bias_add(x, b)\n",
    "  return tf.nn.relu(x)\n",
    "\n",
    "def maxpool2d(x, k = 1):\n",
    "  return tf.nn.max_pool(x, ksize = [1, k, k, 1], strides = [1, k, k, 1], padding = 'SAME')"
   ]
  },
  {
   "cell_type": "markdown",
   "metadata": {
    "colab_type": "text",
    "id": "cn2hbrWynbvA"
   },
   "source": [
    "### Convolution Neuro Network model"
   ]
  },
  {
   "cell_type": "code",
   "execution_count": 4,
   "metadata": {
    "colab": {
     "autoexec": {
      "startup": false,
      "wait_interval": 0
     }
    },
    "colab_type": "code",
    "collapsed": true,
    "id": "LW1OT7nxmbPg"
   },
   "outputs": [],
   "source": [
    "def conv_net(x, weights, biases, dropout):\n",
    "  x = tf.reshape(x, shape = [-1, 28, 28, 1])\n",
    "  # layer 1 - convolution\n",
    "  conv1 = conv2d(x, weights['wc1'], biases['bc1'])\n",
    "  conv1 = maxpool2d(conv1, k = 2)\n",
    "  # layer 2 - convolution\n",
    "  conv2 = conv2d(conv1, weights['wc2'], biases['bc2'])\n",
    "  conv2 = maxpool2d(conv2, k = 2)\n",
    "  # layer 3 - fully connected\n",
    "  fc1 = tf.reshape(conv2, [-1, weights['wd1'].get_shape().as_list()[0]])\n",
    "  fc1 = tf.add(tf.matmul(fc1, weights['wd1']), biases['bd1'])\n",
    "  fc1 = tf.nn.relu(fc1)\n",
    "  fc1 = tf.nn.dropout(fc1, dropout)\n",
    "  # output\n",
    "  out = tf.add(tf.matmul(fc1, weights['out']), biases['out'])\n",
    "  return out"
   ]
  },
  {
   "cell_type": "code",
   "execution_count": 5,
   "metadata": {
    "colab": {
     "autoexec": {
      "startup": false,
      "wait_interval": 0
     },
     "base_uri": "https://localhost:8080/",
     "height": 173,
     "output_extras": [
      {
       "item_id": 1
      }
     ]
    },
    "colab_type": "code",
    "executionInfo": {
     "elapsed": 1229,
     "status": "ok",
     "timestamp": 1522530669203,
     "user": {
      "displayName": "Marco Nunes",
      "photoUrl": "//lh6.googleusercontent.com/-bYRyZI76_54/AAAAAAAAAAI/AAAAAAAABgQ/eyDrRlhqp8M/s50-c-k-no/photo.jpg",
      "userId": "103504250905254892290"
     },
     "user_tz": 180
    },
    "id": "0485TdRur4Vp",
    "outputId": "2651d66e-43ee-4c5a-f129-3d7bb0d94543"
   },
   "outputs": [],
   "source": [
    "weights = {\n",
    "    'wc1': tf.Variable(tf.random_normal([5, 5, 1, 32])), \n",
    "    'wc2': tf.Variable(tf.random_normal([5, 5, 32, 64])), \n",
    "    'wd1': tf.Variable(tf.random_normal([7*7*64, 1024])), \n",
    "    'out': tf.Variable(tf.random_normal([1024, num_classes]))\n",
    "}\n",
    "\n",
    "biases = {\n",
    "    'bc1': tf.Variable(tf.random_normal([32])), \n",
    "    'bc2': tf.Variable(tf.random_normal([64])),\n",
    "    'bd1': tf.Variable(tf.random_normal([1024])), \n",
    "    'out': tf.Variable(tf.random_normal([num_classes])), \n",
    "}\n",
    "\n",
    "# model\n",
    "logits = conv_net(X, weights, biases, keep_prob)\n",
    "prediction = tf.nn.softmax(logits)\n",
    "\n",
    "# loss and optimizer\n",
    "loss_op = tf.reduce_mean(tf.nn.softmax_cross_entropy_with_logits(\n",
    "logits = logits, labels = Y))\n",
    "optimizer = tf.train.AdamOptimizer(learning_rate = learning_rate)\n",
    "train_op = optimizer.minimize(loss_op)\n",
    "\n",
    "# model evaluation\n",
    "correct_pred = tf.equal(tf.argmax(prediction, 1), tf.argmax(Y, 1))\n",
    "accuracy = tf.reduce_mean(tf.cast(correct_pred, tf.float32))\n",
    "\n",
    "# variables initializing\n",
    "init = tf.global_variables_initializer()"
   ]
  },
  {
   "cell_type": "markdown",
   "metadata": {
    "colab_type": "text",
    "id": "7H-aIJJXx_ln"
   },
   "source": [
    "### Training the model"
   ]
  },
  {
   "cell_type": "code",
   "execution_count": 6,
   "metadata": {
    "colab": {
     "autoexec": {
      "startup": false,
      "wait_interval": 0
     },
     "base_uri": "https://localhost:8080/",
     "height": 935,
     "output_extras": [
      {
       "item_id": 25
      },
      {
       "item_id": 26
      }
     ]
    },
    "colab_type": "code",
    "executionInfo": {
     "elapsed": 10952,
     "status": "ok",
     "timestamp": 1522530682746,
     "user": {
      "displayName": "Marco Nunes",
      "photoUrl": "//lh6.googleusercontent.com/-bYRyZI76_54/AAAAAAAAAAI/AAAAAAAABgQ/eyDrRlhqp8M/s50-c-k-no/photo.jpg",
      "userId": "103504250905254892290"
     },
     "user_tz": 180
    },
    "id": "9jEd7wXzwtoM",
    "outputId": "b620d8c3-e4f1-4776-a598-7c61d0c448ce"
   },
   "outputs": [
    {
     "name": "stdout",
     "output_type": "stream",
     "text": [
      "Step 1, Minibatch Loss = 83072.2344, Training Accuracy = 0.078\n",
      "Step 10, Minibatch Loss = 27916.9473, Training Accuracy = 0.234\n",
      "Step 20, Minibatch Loss = 12005.0391, Training Accuracy = 0.453\n",
      "Step 30, Minibatch Loss = 6906.5488, Training Accuracy = 0.695\n",
      "Step 40, Minibatch Loss = 7788.3496, Training Accuracy = 0.711\n",
      "Step 50, Minibatch Loss = 5223.2505, Training Accuracy = 0.781\n",
      "Step 60, Minibatch Loss = 4330.4404, Training Accuracy = 0.828\n",
      "Step 70, Minibatch Loss = 2746.0620, Training Accuracy = 0.844\n",
      "Step 80, Minibatch Loss = 4330.0601, Training Accuracy = 0.805\n",
      "Step 90, Minibatch Loss = 3387.0996, Training Accuracy = 0.867\n",
      "Step 100, Minibatch Loss = 2885.4822, Training Accuracy = 0.828\n",
      "Step 110, Minibatch Loss = 1962.0945, Training Accuracy = 0.883\n",
      "Step 120, Minibatch Loss = 1708.4531, Training Accuracy = 0.930\n",
      "Step 130, Minibatch Loss = 3147.8540, Training Accuracy = 0.867\n",
      "Step 140, Minibatch Loss = 3096.9431, Training Accuracy = 0.891\n",
      "Step 150, Minibatch Loss = 2137.5874, Training Accuracy = 0.891\n",
      "Step 160, Minibatch Loss = 3388.0078, Training Accuracy = 0.875\n",
      "Step 170, Minibatch Loss = 3105.9644, Training Accuracy = 0.891\n",
      "Step 180, Minibatch Loss = 1464.3748, Training Accuracy = 0.875\n",
      "Step 190, Minibatch Loss = 2134.6519, Training Accuracy = 0.914\n",
      "Step 200, Minibatch Loss = 646.6613, Training Accuracy = 0.953\n",
      "Step 210, Minibatch Loss = 1378.2728, Training Accuracy = 0.914\n",
      "Step 220, Minibatch Loss = 2120.6768, Training Accuracy = 0.898\n",
      "Step 230, Minibatch Loss = 2026.9036, Training Accuracy = 0.891\n",
      "Step 240, Minibatch Loss = 1804.6648, Training Accuracy = 0.906\n",
      "Step 250, Minibatch Loss = 1607.9707, Training Accuracy = 0.906\n",
      "Step 260, Minibatch Loss = 1193.1830, Training Accuracy = 0.930\n",
      "Step 270, Minibatch Loss = 937.3239, Training Accuracy = 0.953\n",
      "Step 280, Minibatch Loss = 1488.0588, Training Accuracy = 0.898\n",
      "Step 290, Minibatch Loss = 1726.1985, Training Accuracy = 0.930\n",
      "Step 300, Minibatch Loss = 1150.4514, Training Accuracy = 0.922\n",
      "Step 310, Minibatch Loss = 1046.1680, Training Accuracy = 0.953\n",
      "Step 320, Minibatch Loss = 459.3226, Training Accuracy = 0.914\n",
      "Step 330, Minibatch Loss = 686.8917, Training Accuracy = 0.953\n",
      "Step 340, Minibatch Loss = 928.9473, Training Accuracy = 0.914\n",
      "Step 350, Minibatch Loss = 824.3627, Training Accuracy = 0.938\n",
      "Step 360, Minibatch Loss = 1106.5962, Training Accuracy = 0.938\n",
      "Step 370, Minibatch Loss = 1031.0275, Training Accuracy = 0.945\n",
      "Step 380, Minibatch Loss = 93.5802, Training Accuracy = 0.984\n",
      "Step 390, Minibatch Loss = 1390.1283, Training Accuracy = 0.922\n",
      "Step 400, Minibatch Loss = 1337.5083, Training Accuracy = 0.898\n",
      "Step 410, Minibatch Loss = 495.3837, Training Accuracy = 0.953\n",
      "Step 420, Minibatch Loss = 154.7876, Training Accuracy = 0.961\n",
      "Step 430, Minibatch Loss = 744.0624, Training Accuracy = 0.969\n",
      "Step 440, Minibatch Loss = 365.0048, Training Accuracy = 0.945\n",
      "Step 450, Minibatch Loss = 354.8456, Training Accuracy = 0.977\n",
      "Step 460, Minibatch Loss = 434.7026, Training Accuracy = 0.977\n",
      "Step 470, Minibatch Loss = 867.3871, Training Accuracy = 0.938\n",
      "Step 480, Minibatch Loss = 446.7592, Training Accuracy = 0.969\n",
      "Step 490, Minibatch Loss = 242.2546, Training Accuracy = 0.961\n",
      "Step 500, Minibatch Loss = 108.5991, Training Accuracy = 0.969\n",
      "Optization finished!\n",
      "Testing Accuracy:  0.980469\n"
     ]
    },
    {
     "data": {
      "text/plain": [
       "'00:05:38'"
      ]
     },
     "execution_count": 6,
     "metadata": {},
     "output_type": "execute_result"
    }
   ],
   "source": [
    "import time\n",
    "start_time = time.time()\n",
    "\n",
    "with tf.Session() as sess:\n",
    "  sess.run(init)\n",
    "  \n",
    "  for step in range(1, num_steps + 1):\n",
    "    batch_x, batch_y = mnist.train.next_batch(batch_size)\n",
    "    # backpropagation\n",
    "    sess.run(train_op, feed_dict = {X: batch_x, Y: batch_y, keep_prob: dropout})\n",
    "    # step display\n",
    "    if step % display_step == 0 or step == 1:\n",
    "      # loss and accuracy\n",
    "      loss, acc = sess.run([loss_op, accuracy], feed_dict = {X: batch_x, \n",
    "                                                            Y: batch_y, \n",
    "                                                            keep_prob: 1.0})\n",
    "      print('Step ' + str(step) + \\\n",
    "           ', Minibatch Loss = ' + \"{:.4f}\".format(loss) + \\\n",
    "           ', Training Accuracy = ' + \"{:.3f}\".format(acc))\n",
    "  print(\"Optization finished!\")\n",
    " \n",
    "  \n",
    "  # accuracy for 255 mnist test images\n",
    "  print(\"Testing Accuracy: \", \\\n",
    "       sess.run(accuracy, feed_dict = {X: mnist.test.images[:256], \n",
    "                                      Y: mnist.test.labels[:256], \n",
    "                                      keep_prob: 1.0}))\n",
    "  \n",
    "elapsed_time = time.time() - start_time\n",
    "time.strftime(\"%H:%M:%S\", time.gmtime(elapsed_time))\n"
   ]
  },
  {
   "cell_type": "code",
   "execution_count": 0,
   "metadata": {
    "colab": {
     "autoexec": {
      "startup": false,
      "wait_interval": 0
     }
    },
    "colab_type": "code",
    "collapsed": true,
    "id": "wshMJXZF3bok"
   },
   "outputs": [],
   "source": []
  }
 ],
 "metadata": {
  "accelerator": "GPU",
  "colab": {
   "default_view": {},
   "name": "CNN_mnist_classifier_raw.ipynb",
   "provenance": [],
   "version": "0.3.2",
   "views": {}
  },
  "kernelspec": {
   "display_name": "Python 3",
   "language": "python",
   "name": "python3"
  },
  "language_info": {
   "codemirror_mode": {
    "name": "ipython",
    "version": 3
   },
   "file_extension": ".py",
   "mimetype": "text/x-python",
   "name": "python",
   "nbconvert_exporter": "python",
   "pygments_lexer": "ipython3",
   "version": "3.5.3"
  }
 },
 "nbformat": 4,
 "nbformat_minor": 1
}
