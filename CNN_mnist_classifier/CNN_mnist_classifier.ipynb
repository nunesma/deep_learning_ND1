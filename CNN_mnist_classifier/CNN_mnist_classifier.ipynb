{
 "cells": [
  {
   "cell_type": "markdown",
   "metadata": {
    "colab_type": "text",
    "id": "KdE9b3hcS92h"
   },
   "source": [
    "# CNN MNIST Classifier\n",
    "Objective: build a convolutional neural network to classify MNIST handwritten digits dataset<br><br>\n",
    "Based in Convolutional Neural Network Example\n",
    "- Author: Aymeric Damien\n",
    "- Project: https://github.com/aymericdamien/TensorFlow-Examples/ "
   ]
  },
  {
   "cell_type": "markdown",
   "metadata": {
    "colab_type": "text",
    "id": "cwNGUEWVUOIs"
   },
   "source": [
    "## MNIST Dataset Overview\n",
    "The dataset contains 60,000 examples for training and 10,000 examples for testing. <br>The digits have been size-normalized and centered in a fixed-size image (28x28 pixels) with values from 0 to 1.<br> For simplicity, each image has been flattened and converted to a 1-D numpy array of 784 features (28*28)."
   ]
  },
  {
   "cell_type": "code",
   "execution_count": 5,
   "metadata": {
    "colab": {
     "autoexec": {
      "startup": false,
      "wait_interval": 0
     },
     "base_uri": "https://localhost:8080/",
     "height": 153,
     "output_extras": [
      {
       "item_id": 2
      }
     ]
    },
    "colab_type": "code",
    "executionInfo": {
     "elapsed": 9313,
     "status": "ok",
     "timestamp": 1522462126854,
     "user": {
      "displayName": "Marco Nunes",
      "photoUrl": "//lh6.googleusercontent.com/-bYRyZI76_54/AAAAAAAAAAI/AAAAAAAABgQ/eyDrRlhqp8M/s50-c-k-no/photo.jpg",
      "userId": "103504250905254892290"
     },
     "user_tz": 180
    },
    "id": "ZsIvrArhSnFH",
    "outputId": "8e72c645-8319-404d-a8c0-9624943fea58"
   },
   "outputs": [
    {
     "name": "stdout",
     "output_type": "stream",
     "text": [
      "Successfully downloaded train-images-idx3-ubyte.gz 9912422 bytes.\n",
      "Extracting /tmp/data/train-images-idx3-ubyte.gz\n",
      "Successfully downloaded train-labels-idx1-ubyte.gz 28881 bytes.\n",
      "Extracting /tmp/data/train-labels-idx1-ubyte.gz\n",
      "Successfully downloaded t10k-images-idx3-ubyte.gz 1648877 bytes.\n",
      "Extracting /tmp/data/t10k-images-idx3-ubyte.gz\n",
      "Successfully downloaded t10k-labels-idx1-ubyte.gz 4542 bytes.\n",
      "Extracting /tmp/data/t10k-labels-idx1-ubyte.gz\n"
     ]
    }
   ],
   "source": [
    "from __future__ import division, print_function, absolute_import\n",
    "\n",
    "import tensorflow as tf\n",
    "\n",
    "# Import MNIST data\n",
    "from tensorflow.examples.tutorials.mnist import input_data\n",
    "mnist = input_data.read_data_sets(\"/tmp/data/\", one_hot = False)\n",
    "\n",
    "import tensorflow as tf\n",
    "import matplotlib.pyplot as plt\n",
    "import numpy as np"
   ]
  },
  {
   "cell_type": "code",
   "execution_count": 0,
   "metadata": {
    "colab": {
     "autoexec": {
      "startup": false,
      "wait_interval": 0
     }
    },
    "colab_type": "code",
    "collapsed": true,
    "id": "T_PJIZxAm9HL"
   },
   "outputs": [],
   "source": [
    "# Training parameters\n",
    "learning_rate = 0.001\n",
    "num_steps = 2000\n",
    "batch_size = 128\n",
    "\n",
    "# Network parameters\n",
    "num_input = 784\n",
    "num_classes = 10\n",
    "dropout = 0.25"
   ]
  },
  {
   "cell_type": "code",
   "execution_count": 0,
   "metadata": {
    "colab": {
     "autoexec": {
      "startup": false,
      "wait_interval": 0
     }
    },
    "colab_type": "code",
    "collapsed": true,
    "id": "MKk9-X-pSk8K"
   },
   "outputs": [],
   "source": [
    "# Create the neural network\n",
    "def conv_net(x_dict, n_classes, dropout, reuse, is_training):\n",
    "  \n",
    "  with tf.variable_scope('ConvNet', reuse = reuse):\n",
    "    x = x_dict['images']\n",
    "    \n",
    "    x = tf.reshape(x, shape = [-1, 28, 28, 1])\n",
    "    \n",
    "    # layer 1\n",
    "    conv1 = tf.layers.conv2d(x, 32, 5, activation = tf.nn.relu)\n",
    "    conv1 = tf.layers.max_pooling2d(conv1, 2, 2)\n",
    "    \n",
    "    # layer 2\n",
    "    conv2 = tf.layers.conv2d(conv1, 64, 3, activation = tf.nn.relu)\n",
    "    conv2 = tf.layers.max_pooling2d(conv2, 2, 2)\n",
    "    \n",
    "    # Flatten the data\n",
    "    fc1 = tf.contrib.layers.flatten(conv2)\n",
    "    \n",
    "    # Fully connected layer\n",
    "    fc1 = tf.layers.dense(fc1, 1024)\n",
    "    fc1 = tf.layers.dropout(fc1, rate = dropout, training = is_training)\n",
    "    \n",
    "    # Output layer\n",
    "    out = tf.layers.dense(fc1, n_classes)\n",
    "    \n",
    "  return out"
   ]
  },
  {
   "cell_type": "code",
   "execution_count": 0,
   "metadata": {
    "colab": {
     "autoexec": {
      "startup": false,
      "wait_interval": 0
     }
    },
    "colab_type": "code",
    "collapsed": true,
    "id": "9tiWRFgWcD6t"
   },
   "outputs": [],
   "source": [
    "# define the model function\n",
    "def model_fn(features, labels, mode):\n",
    "  \n",
    "  # building the neural network\n",
    "  logits_train = conv_net(features, num_classes, dropout, reuse = False, is_training = True)\n",
    "  logits_test = conv_net(features, num_classes, dropout, reuse = True, is_training = False)\n",
    "  \n",
    "  # predictions\n",
    "  pred_classes = tf.argmax(logits_test, axis = 1)\n",
    "  pred_probas = tf.nn.softmax(logits_test)\n",
    "  \n",
    "  # if prediction mode, early return\n",
    "  if mode == tf.estimator.ModeKeys.PREDICT:\n",
    "    return tf.estimator.EstimatorSpec(mode, predictions = pred_classes)\n",
    "  \n",
    "  # define loss and optimizer\n",
    "  loss_op = tf.reduce_mean(tf.nn.sparse_softmax_cross_entropy_with_logits(\n",
    "  logits = logits_train, labels = tf.cast(labels, dtype = tf.int32)))\n",
    "  optimizer = tf.train.AdamOptimizer(learning_rate = learning_rate)\n",
    "  train_op = optimizer.minimize(loss_op, global_step = tf.train.get_global_step())\n",
    "  \n",
    "  # accuracy of the model\n",
    "  acc_op = tf.metrics.accuracy(labels = labels, predictions = pred_classes)\n",
    "  \n",
    "  estim_specs = tf.estimator.EstimatorSpec(\n",
    "  mode = mode, \n",
    "  predictions = pred_classes, \n",
    "  loss = loss_op, \n",
    "  train_op = train_op, \n",
    "  eval_metric_ops = {'accuracy': acc_op})\n",
    "  \n",
    "  return estim_specs"
   ]
  },
  {
   "cell_type": "code",
   "execution_count": 28,
   "metadata": {
    "colab": {
     "autoexec": {
      "startup": false,
      "wait_interval": 0
     },
     "base_uri": "https://localhost:8080/",
     "height": 88,
     "output_extras": [
      {
       "item_id": 1
      }
     ]
    },
    "colab_type": "code",
    "executionInfo": {
     "elapsed": 690,
     "status": "ok",
     "timestamp": 1522463578609,
     "user": {
      "displayName": "Marco Nunes",
      "photoUrl": "//lh6.googleusercontent.com/-bYRyZI76_54/AAAAAAAAAAI/AAAAAAAABgQ/eyDrRlhqp8M/s50-c-k-no/photo.jpg",
      "userId": "103504250905254892290"
     },
     "user_tz": 180
    },
    "id": "vTl0QjBbzCl5",
    "outputId": "88a670e7-d387-43d3-9d18-a98eb170a8f7"
   },
   "outputs": [
    {
     "name": "stdout",
     "output_type": "stream",
     "text": [
      "INFO:tensorflow:Using default config.\n",
      "WARNING:tensorflow:Using temporary folder as model directory: /tmp/tmp8pvwmsz5\n",
      "INFO:tensorflow:Using config: {'_model_dir': '/tmp/tmp8pvwmsz5', '_tf_random_seed': None, '_save_summary_steps': 100, '_save_checkpoints_steps': None, '_save_checkpoints_secs': 600, '_session_config': None, '_keep_checkpoint_max': 5, '_keep_checkpoint_every_n_hours': 10000, '_log_step_count_steps': 100, '_service': None, '_cluster_spec': <tensorflow.python.training.server_lib.ClusterSpec object at 0x7f9bccc2d748>, '_task_type': 'worker', '_task_id': 0, '_global_id_in_cluster': 0, '_master': '', '_evaluation_master': '', '_is_chief': True, '_num_ps_replicas': 0, '_num_worker_replicas': 1}\n"
     ]
    }
   ],
   "source": [
    "# Build the estimator\n",
    "model = tf.estimator.Estimator(model_fn)"
   ]
  },
  {
   "cell_type": "code",
   "execution_count": 29,
   "metadata": {
    "colab": {
     "autoexec": {
      "startup": false,
      "wait_interval": 0
     },
     "base_uri": "https://localhost:8080/",
     "height": 850,
     "output_extras": [
      {
       "item_id": 42
      },
      {
       "item_id": 43
      }
     ]
    },
    "colab_type": "code",
    "executionInfo": {
     "elapsed": 21691,
     "status": "ok",
     "timestamp": 1522463601028,
     "user": {
      "displayName": "Marco Nunes",
      "photoUrl": "//lh6.googleusercontent.com/-bYRyZI76_54/AAAAAAAAAAI/AAAAAAAABgQ/eyDrRlhqp8M/s50-c-k-no/photo.jpg",
      "userId": "103504250905254892290"
     },
     "user_tz": 180
    },
    "id": "lXhvnWD1z-gQ",
    "outputId": "2eaa6853-7110-4c23-ccb3-4c9eb0e0b846"
   },
   "outputs": [
    {
     "name": "stdout",
     "output_type": "stream",
     "text": [
      "INFO:tensorflow:Calling model_fn.\n",
      "INFO:tensorflow:Done calling model_fn.\n",
      "INFO:tensorflow:Create CheckpointSaverHook.\n",
      "INFO:tensorflow:Graph was finalized.\n",
      "INFO:tensorflow:Running local_init_op.\n",
      "INFO:tensorflow:Done running local_init_op.\n",
      "INFO:tensorflow:Saving checkpoints for 1 into /tmp/tmp8pvwmsz5/model.ckpt.\n",
      "INFO:tensorflow:loss = 2.3196383, step = 1\n",
      "INFO:tensorflow:global_step/sec: 89.3053\n",
      "INFO:tensorflow:loss = 0.095810905, step = 101 (1.129 sec)\n",
      "INFO:tensorflow:global_step/sec: 99.6014\n",
      "INFO:tensorflow:loss = 0.10596167, step = 201 (1.001 sec)\n",
      "INFO:tensorflow:global_step/sec: 100.169\n",
      "INFO:tensorflow:loss = 0.123040825, step = 301 (0.998 sec)\n",
      "INFO:tensorflow:global_step/sec: 99.4795\n",
      "INFO:tensorflow:loss = 0.08768299, step = 401 (1.006 sec)\n",
      "INFO:tensorflow:global_step/sec: 99.7819\n",
      "INFO:tensorflow:loss = 0.06341663, step = 501 (1.004 sec)\n",
      "INFO:tensorflow:global_step/sec: 99.0083\n",
      "INFO:tensorflow:loss = 0.0129051125, step = 601 (1.010 sec)\n",
      "INFO:tensorflow:global_step/sec: 99.749\n",
      "INFO:tensorflow:loss = 0.023447644, step = 701 (0.999 sec)\n",
      "INFO:tensorflow:global_step/sec: 100.561\n",
      "INFO:tensorflow:loss = 0.02298176, step = 801 (0.995 sec)\n",
      "INFO:tensorflow:global_step/sec: 100.16\n",
      "INFO:tensorflow:loss = 0.018260824, step = 901 (0.996 sec)\n",
      "INFO:tensorflow:global_step/sec: 100.098\n",
      "INFO:tensorflow:loss = 0.017893404, step = 1001 (1.000 sec)\n",
      "INFO:tensorflow:global_step/sec: 100.017\n",
      "INFO:tensorflow:loss = 0.026621135, step = 1101 (1.003 sec)\n",
      "INFO:tensorflow:global_step/sec: 99.6707\n",
      "INFO:tensorflow:loss = 0.039026063, step = 1201 (1.004 sec)\n",
      "INFO:tensorflow:global_step/sec: 99.7779\n",
      "INFO:tensorflow:loss = 0.0322164, step = 1301 (1.001 sec)\n",
      "INFO:tensorflow:global_step/sec: 100.159\n",
      "INFO:tensorflow:loss = 0.015291424, step = 1401 (0.995 sec)\n",
      "INFO:tensorflow:global_step/sec: 99.4789\n",
      "INFO:tensorflow:loss = 0.031970803, step = 1501 (1.010 sec)\n",
      "INFO:tensorflow:global_step/sec: 99.703\n",
      "INFO:tensorflow:loss = 0.06801891, step = 1601 (1.001 sec)\n",
      "INFO:tensorflow:global_step/sec: 100.217\n",
      "INFO:tensorflow:loss = 0.00731814, step = 1701 (0.997 sec)\n",
      "INFO:tensorflow:global_step/sec: 99.7274\n",
      "INFO:tensorflow:loss = 0.006596492, step = 1801 (0.999 sec)\n",
      "INFO:tensorflow:global_step/sec: 100.09\n",
      "INFO:tensorflow:loss = 0.044521876, step = 1901 (0.999 sec)\n",
      "INFO:tensorflow:Saving checkpoints for 2000 into /tmp/tmp8pvwmsz5/model.ckpt.\n",
      "INFO:tensorflow:Loss for final step: 0.001573445.\n"
     ]
    },
    {
     "data": {
      "text/plain": [
       "'00:00:21'"
      ]
     },
     "execution_count": 29,
     "metadata": {
      "tags": []
     },
     "output_type": "execute_result"
    }
   ],
   "source": [
    "import time\n",
    "start_time = time.time()\n",
    "\n",
    "# define the input function for training\n",
    "input_fn = tf.estimator.inputs.numpy_input_fn(\n",
    "x = {'images': mnist.train.images}, y = mnist.train.labels, \n",
    "batch_size = batch_size, num_epochs = None, shuffle = True)\n",
    "\n",
    "# train the model\n",
    "model.train(input_fn, steps = num_steps)\n",
    "\n",
    "elapsed_time = time.time() - start_time\n",
    "time.strftime(\"%H:%M:%S\", time.gmtime(elapsed_time))"
   ]
  },
  {
   "cell_type": "code",
   "execution_count": 30,
   "metadata": {
    "colab": {
     "autoexec": {
      "startup": false,
      "wait_interval": 0
     },
     "base_uri": "https://localhost:8080/",
     "height": 187,
     "output_extras": [
      {
       "item_id": 2
      },
      {
       "item_id": 3
      }
     ]
    },
    "colab_type": "code",
    "executionInfo": {
     "elapsed": 1797,
     "status": "ok",
     "timestamp": 1522463607943,
     "user": {
      "displayName": "Marco Nunes",
      "photoUrl": "//lh6.googleusercontent.com/-bYRyZI76_54/AAAAAAAAAAI/AAAAAAAABgQ/eyDrRlhqp8M/s50-c-k-no/photo.jpg",
      "userId": "103504250905254892290"
     },
     "user_tz": 180
    },
    "id": "8K5XxfwJ12SP",
    "outputId": "77f96e22-9906-4e6f-963a-ed8301ae4725"
   },
   "outputs": [
    {
     "name": "stdout",
     "output_type": "stream",
     "text": [
      "INFO:tensorflow:Calling model_fn.\n",
      "INFO:tensorflow:Done calling model_fn.\n",
      "INFO:tensorflow:Starting evaluation at 2018-03-31-02:33:27\n",
      "INFO:tensorflow:Graph was finalized.\n",
      "INFO:tensorflow:Restoring parameters from /tmp/tmp8pvwmsz5/model.ckpt-2000\n",
      "INFO:tensorflow:Running local_init_op.\n",
      "INFO:tensorflow:Done running local_init_op.\n",
      "INFO:tensorflow:Finished evaluation at 2018-03-31-02:33:28\n",
      "INFO:tensorflow:Saving dict for global step 2000: accuracy = 0.9887, global_step = 2000, loss = 0.03573818\n"
     ]
    },
    {
     "data": {
      "text/plain": [
       "{'accuracy': 0.9887, 'global_step': 2000, 'loss': 0.03573818}"
      ]
     },
     "execution_count": 30,
     "metadata": {
      "tags": []
     },
     "output_type": "execute_result"
    }
   ],
   "source": [
    "# Evaluate the model\n",
    "input_fn = tf.estimator.inputs.numpy_input_fn(\n",
    "x = {'images': mnist.test.images}, y = mnist.test.labels,\n",
    "batch_size = batch_size, shuffle = False)\n",
    "\n",
    "# use the estimator 'evalate' method\n",
    "model.evaluate(input_fn)"
   ]
  },
  {
   "cell_type": "code",
   "execution_count": 31,
   "metadata": {
    "colab": {
     "autoexec": {
      "startup": false,
      "wait_interval": 0
     },
     "base_uri": "https://localhost:8080/",
     "height": 1507,
     "output_extras": [
      {
       "item_id": 1
      },
      {
       "item_id": 2
      },
      {
       "item_id": 3
      },
      {
       "item_id": 4
      },
      {
       "item_id": 5
      },
      {
       "item_id": 6
      },
      {
       "item_id": 7
      },
      {
       "item_id": 8
      },
      {
       "item_id": 9
      }
     ]
    },
    "colab_type": "code",
    "executionInfo": {
     "elapsed": 1746,
     "status": "ok",
     "timestamp": 1522463613251,
     "user": {
      "displayName": "Marco Nunes",
      "photoUrl": "//lh6.googleusercontent.com/-bYRyZI76_54/AAAAAAAAAAI/AAAAAAAABgQ/eyDrRlhqp8M/s50-c-k-no/photo.jpg",
      "userId": "103504250905254892290"
     },
     "user_tz": 180
    },
    "id": "ZncatDBZ33JP",
    "outputId": "3c0d8b69-c371-40a9-c40a-719e4d11e2d4"
   },
   "outputs": [
    {
     "name": "stdout",
     "output_type": "stream",
     "text": [
      "INFO:tensorflow:Calling model_fn.\n",
      "INFO:tensorflow:Done calling model_fn.\n",
      "INFO:tensorflow:Graph was finalized.\n",
      "INFO:tensorflow:Restoring parameters from /tmp/tmp8pvwmsz5/model.ckpt-2000\n",
      "INFO:tensorflow:Running local_init_op.\n",
      "INFO:tensorflow:Done running local_init_op.\n"
     ]
    },
    {
     "data": {
      "image/png": "[encoded data removed]",
      "text/plain": [
       "<matplotlib.figure.Figure at 0x7f9bcfe66a20>"
      ]
     },
     "metadata": {
      "tags": []
     },
     "output_type": "display_data"
    },
    {
     "name": "stdout",
     "output_type": "stream",
     "text": [
      "Model prediction: 7\n"
     ]
    },
    {
     "data": {
      "image/png": "[encoded data removed]",
      "text/plain": [
       "<matplotlib.figure.Figure at 0x7f9bccc066d8>"
      ]
     },
     "metadata": {
      "tags": []
     },
     "output_type": "display_data"
    },
    {
     "name": "stdout",
     "output_type": "stream",
     "text": [
      "Model prediction: 2\n"
     ]
    },
    {
     "data": {
      "image/png": "[encoded data removed]",
      "text/plain": [
       "<matplotlib.figure.Figure at 0x7f9bccf55b70>"
      ]
     },
     "metadata": {
      "tags": []
     },
     "output_type": "display_data"
    },
    {
     "name": "stdout",
     "output_type": "stream",
     "text": [
      "Model prediction: 1\n"
     ]
    },
    {
     "data": {
      "image/png": "[encoded data removed]",
      "text/plain": [
       "<matplotlib.figure.Figure at 0x7f9bd00a4518>"
      ]
     },
     "metadata": {
      "tags": []
     },
     "output_type": "display_data"
    },
    {
     "name": "stdout",
     "output_type": "stream",
     "text": [
      "Model prediction: 0\n"
     ]
    }
   ],
   "source": [
    "# predict single images\n",
    "n_images = 4\n",
    "\n",
    "# get images from test set\n",
    "test_images = mnist.test.images[:n_images]\n",
    "\n",
    "# prepare the input data\n",
    "input_fn = tf.estimator.inputs.numpy_input_fn(\n",
    "x = {'images': test_images}, shuffle = False)\n",
    "\n",
    "# use the model to predist the images class\n",
    "preds = list(model.predict(input_fn))\n",
    "\n",
    "\n",
    "# display\n",
    "for i in range(n_images):\n",
    "  plt.imshow(np.reshape(test_images[i], [28, 28]), cmap = 'gray')\n",
    "  plt.show()\n",
    "  print('Model prediction:', preds[i])"
   ]
  },
  {
   "cell_type": "code",
   "execution_count": 0,
   "metadata": {
    "colab": {
     "autoexec": {
      "startup": false,
      "wait_interval": 0
     }
    },
    "colab_type": "code",
    "collapsed": true,
    "id": "XPP5Zh295xot"
   },
   "outputs": [],
   "source": []
  }
 ],
 "metadata": {
  "accelerator": "GPU",
  "colab": {
   "collapsed_sections": [],
   "default_view": {},
   "name": "CNN_mnist_classifier.ipynb",
   "provenance": [],
   "version": "0.3.2",
   "views": {}
  },
  "kernelspec": {
   "display_name": "Python 3",
   "language": "python",
   "name": "python3"
  },
  "language_info": {
   "codemirror_mode": {
    "name": "ipython",
    "version": 3
   },
   "file_extension": ".py",
   "mimetype": "text/x-python",
   "name": "python",
   "nbconvert_exporter": "python",
   "pygments_lexer": "ipython3",
   "version": "3.5.3"
  }
 },
 "nbformat": 4,
 "nbformat_minor": 1
}
